{
 "cells": [
  {
   "cell_type": "markdown",
   "metadata": {},
   "source": [
    "# Importing Required Packages"
   ]
  },
  {
   "cell_type": "code",
   "execution_count": 1,
   "metadata": {},
   "outputs": [],
   "source": [
    "import numpy as np\n",
    "import pandas as pd\n",
    "#import hyperopt\n",
    "from catboost import Pool, CatBoostClassifier, cv # for modelling\n",
    "from sklearn.model_selection import train_test_split\n",
    "from sklearn.metrics import accuracy_score\n",
    "from sklearn.preprocessing import LabelEncoder\n",
    "import seaborn as sns # For data visualization \n",
    "import matplotlib.pyplot as plt # For plotting graphs \n",
    "%matplotlib inline \n",
    "#from dfply import *\n",
    "import os\n",
    "import warnings\n",
    "from pandas.plotting import scatter_matrix"
   ]
  },
  {
   "cell_type": "code",
   "execution_count": 2,
   "metadata": {},
   "outputs": [],
   "source": [
    "warnings.filterwarnings('ignore') # if there are any warning due to version mismatch, it will be ignored\n",
    "np.set_printoptions(suppress=True, formatter={'float_kind':'{:f}'.format})"
   ]
  },
  {
   "cell_type": "markdown",
   "metadata": {},
   "source": [
    "### DATA IMPORTATION"
   ]
  },
  {
   "cell_type": "code",
   "execution_count": 3,
   "metadata": {},
   "outputs": [],
   "source": [
    "train = pd.read_csv(\"train_values.csv\", low_memory=False)\n",
    "train_label = pd.read_csv(\"train_labels.csv\", low_memory=False)"
   ]
  },
  {
   "cell_type": "code",
   "execution_count": 4,
   "metadata": {},
   "outputs": [],
   "source": [
    "train = pd.merge(train, train_label, on='row_id') # Merging the dependent and independent variables together"
   ]
  },
  {
   "cell_type": "code",
   "execution_count": null,
   "metadata": {},
   "outputs": [],
   "source": []
  },
  {
   "cell_type": "code",
   "execution_count": 5,
   "metadata": {},
   "outputs": [],
   "source": [
    "#### CHECKING THE SHAPE OF THE DATASETS PROVIDED"
   ]
  },
  {
   "cell_type": "code",
   "execution_count": 6,
   "metadata": {},
   "outputs": [
    {
     "data": {
      "text/plain": [
       "(500000, 23)"
      ]
     },
     "execution_count": 6,
     "metadata": {},
     "output_type": "execute_result"
    }
   ],
   "source": [
    "train.shape"
   ]
  },
  {
   "cell_type": "markdown",
   "metadata": {},
   "source": [
    "We have 500,000 rows and 23 columns(including train labels)."
   ]
  },
  {
   "cell_type": "code",
   "execution_count": 7,
   "metadata": {},
   "outputs": [],
   "source": [
    "# Viewing the first 10 observations"
   ]
  },
  {
   "cell_type": "code",
   "execution_count": 8,
   "metadata": {},
   "outputs": [
    {
     "data": {
      "text/html": [
       "<div>\n",
       "<style scoped>\n",
       "    .dataframe tbody tr th:only-of-type {\n",
       "        vertical-align: middle;\n",
       "    }\n",
       "\n",
       "    .dataframe tbody tr th {\n",
       "        vertical-align: top;\n",
       "    }\n",
       "\n",
       "    .dataframe thead th {\n",
       "        text-align: right;\n",
       "    }\n",
       "</style>\n",
       "<table border=\"1\" class=\"dataframe\">\n",
       "  <thead>\n",
       "    <tr style=\"text-align: right;\">\n",
       "      <th></th>\n",
       "      <th>row_id</th>\n",
       "      <th>loan_type</th>\n",
       "      <th>property_type</th>\n",
       "      <th>loan_purpose</th>\n",
       "      <th>occupancy</th>\n",
       "      <th>loan_amount</th>\n",
       "      <th>preapproval</th>\n",
       "      <th>msa_md</th>\n",
       "      <th>state_code</th>\n",
       "      <th>county_code</th>\n",
       "      <th>...</th>\n",
       "      <th>applicant_income</th>\n",
       "      <th>population</th>\n",
       "      <th>minority_population_pct</th>\n",
       "      <th>ffiecmedian_family_income</th>\n",
       "      <th>tract_to_msa_md_income_pct</th>\n",
       "      <th>number_of_owner-occupied_units</th>\n",
       "      <th>number_of_1_to_4_family_units</th>\n",
       "      <th>lender</th>\n",
       "      <th>co_applicant</th>\n",
       "      <th>accepted</th>\n",
       "    </tr>\n",
       "  </thead>\n",
       "  <tbody>\n",
       "    <tr>\n",
       "      <th>0</th>\n",
       "      <td>0</td>\n",
       "      <td>3</td>\n",
       "      <td>1</td>\n",
       "      <td>1</td>\n",
       "      <td>1</td>\n",
       "      <td>70.0</td>\n",
       "      <td>3</td>\n",
       "      <td>18</td>\n",
       "      <td>37</td>\n",
       "      <td>246</td>\n",
       "      <td>...</td>\n",
       "      <td>24.0</td>\n",
       "      <td>6203.0</td>\n",
       "      <td>44.230</td>\n",
       "      <td>60588.0</td>\n",
       "      <td>50.933</td>\n",
       "      <td>716.0</td>\n",
       "      <td>2642.0</td>\n",
       "      <td>4536</td>\n",
       "      <td>False</td>\n",
       "      <td>1</td>\n",
       "    </tr>\n",
       "    <tr>\n",
       "      <th>1</th>\n",
       "      <td>1</td>\n",
       "      <td>1</td>\n",
       "      <td>1</td>\n",
       "      <td>3</td>\n",
       "      <td>1</td>\n",
       "      <td>178.0</td>\n",
       "      <td>3</td>\n",
       "      <td>369</td>\n",
       "      <td>52</td>\n",
       "      <td>299</td>\n",
       "      <td>...</td>\n",
       "      <td>57.0</td>\n",
       "      <td>5774.0</td>\n",
       "      <td>15.905</td>\n",
       "      <td>54821.0</td>\n",
       "      <td>100.000</td>\n",
       "      <td>1622.0</td>\n",
       "      <td>2108.0</td>\n",
       "      <td>2458</td>\n",
       "      <td>False</td>\n",
       "      <td>0</td>\n",
       "    </tr>\n",
       "    <tr>\n",
       "      <th>2</th>\n",
       "      <td>2</td>\n",
       "      <td>2</td>\n",
       "      <td>1</td>\n",
       "      <td>3</td>\n",
       "      <td>1</td>\n",
       "      <td>163.0</td>\n",
       "      <td>3</td>\n",
       "      <td>16</td>\n",
       "      <td>10</td>\n",
       "      <td>306</td>\n",
       "      <td>...</td>\n",
       "      <td>67.0</td>\n",
       "      <td>6094.0</td>\n",
       "      <td>61.270</td>\n",
       "      <td>67719.0</td>\n",
       "      <td>100.000</td>\n",
       "      <td>760.0</td>\n",
       "      <td>1048.0</td>\n",
       "      <td>5710</td>\n",
       "      <td>False</td>\n",
       "      <td>1</td>\n",
       "    </tr>\n",
       "    <tr>\n",
       "      <th>3</th>\n",
       "      <td>3</td>\n",
       "      <td>1</td>\n",
       "      <td>1</td>\n",
       "      <td>1</td>\n",
       "      <td>1</td>\n",
       "      <td>155.0</td>\n",
       "      <td>1</td>\n",
       "      <td>305</td>\n",
       "      <td>47</td>\n",
       "      <td>180</td>\n",
       "      <td>...</td>\n",
       "      <td>105.0</td>\n",
       "      <td>6667.0</td>\n",
       "      <td>6.246</td>\n",
       "      <td>78439.0</td>\n",
       "      <td>100.000</td>\n",
       "      <td>2025.0</td>\n",
       "      <td>2299.0</td>\n",
       "      <td>5888</td>\n",
       "      <td>True</td>\n",
       "      <td>1</td>\n",
       "    </tr>\n",
       "    <tr>\n",
       "      <th>4</th>\n",
       "      <td>4</td>\n",
       "      <td>1</td>\n",
       "      <td>1</td>\n",
       "      <td>1</td>\n",
       "      <td>1</td>\n",
       "      <td>305.0</td>\n",
       "      <td>3</td>\n",
       "      <td>24</td>\n",
       "      <td>37</td>\n",
       "      <td>20</td>\n",
       "      <td>...</td>\n",
       "      <td>71.0</td>\n",
       "      <td>6732.0</td>\n",
       "      <td>100.000</td>\n",
       "      <td>63075.0</td>\n",
       "      <td>82.200</td>\n",
       "      <td>1464.0</td>\n",
       "      <td>1847.0</td>\n",
       "      <td>289</td>\n",
       "      <td>False</td>\n",
       "      <td>1</td>\n",
       "    </tr>\n",
       "    <tr>\n",
       "      <th>5</th>\n",
       "      <td>5</td>\n",
       "      <td>1</td>\n",
       "      <td>1</td>\n",
       "      <td>3</td>\n",
       "      <td>1</td>\n",
       "      <td>133.0</td>\n",
       "      <td>3</td>\n",
       "      <td>221</td>\n",
       "      <td>13</td>\n",
       "      <td>55</td>\n",
       "      <td>...</td>\n",
       "      <td>51.0</td>\n",
       "      <td>6078.0</td>\n",
       "      <td>4.821</td>\n",
       "      <td>82745.0</td>\n",
       "      <td>96.550</td>\n",
       "      <td>1827.0</td>\n",
       "      <td>2340.0</td>\n",
       "      <td>964</td>\n",
       "      <td>False</td>\n",
       "      <td>1</td>\n",
       "    </tr>\n",
       "    <tr>\n",
       "      <th>6</th>\n",
       "      <td>6</td>\n",
       "      <td>3</td>\n",
       "      <td>1</td>\n",
       "      <td>1</td>\n",
       "      <td>1</td>\n",
       "      <td>240.0</td>\n",
       "      <td>3</td>\n",
       "      <td>374</td>\n",
       "      <td>28</td>\n",
       "      <td>131</td>\n",
       "      <td>...</td>\n",
       "      <td>104.0</td>\n",
       "      <td>6068.0</td>\n",
       "      <td>26.427</td>\n",
       "      <td>65282.0</td>\n",
       "      <td>81.068</td>\n",
       "      <td>1863.0</td>\n",
       "      <td>2560.0</td>\n",
       "      <td>5488</td>\n",
       "      <td>False</td>\n",
       "      <td>1</td>\n",
       "    </tr>\n",
       "    <tr>\n",
       "      <th>7</th>\n",
       "      <td>7</td>\n",
       "      <td>2</td>\n",
       "      <td>1</td>\n",
       "      <td>1</td>\n",
       "      <td>1</td>\n",
       "      <td>210.0</td>\n",
       "      <td>3</td>\n",
       "      <td>322</td>\n",
       "      <td>37</td>\n",
       "      <td>35</td>\n",
       "      <td>...</td>\n",
       "      <td>55.0</td>\n",
       "      <td>6030.0</td>\n",
       "      <td>78.153</td>\n",
       "      <td>108353.0</td>\n",
       "      <td>59.439</td>\n",
       "      <td>969.0</td>\n",
       "      <td>1601.0</td>\n",
       "      <td>2442</td>\n",
       "      <td>True</td>\n",
       "      <td>1</td>\n",
       "    </tr>\n",
       "    <tr>\n",
       "      <th>8</th>\n",
       "      <td>8</td>\n",
       "      <td>1</td>\n",
       "      <td>1</td>\n",
       "      <td>3</td>\n",
       "      <td>2</td>\n",
       "      <td>209.0</td>\n",
       "      <td>3</td>\n",
       "      <td>24</td>\n",
       "      <td>37</td>\n",
       "      <td>20</td>\n",
       "      <td>...</td>\n",
       "      <td>244.0</td>\n",
       "      <td>5151.0</td>\n",
       "      <td>88.156</td>\n",
       "      <td>63414.0</td>\n",
       "      <td>62.813</td>\n",
       "      <td>411.0</td>\n",
       "      <td>481.0</td>\n",
       "      <td>2118</td>\n",
       "      <td>True</td>\n",
       "      <td>1</td>\n",
       "    </tr>\n",
       "    <tr>\n",
       "      <th>9</th>\n",
       "      <td>9</td>\n",
       "      <td>1</td>\n",
       "      <td>1</td>\n",
       "      <td>3</td>\n",
       "      <td>1</td>\n",
       "      <td>197.0</td>\n",
       "      <td>3</td>\n",
       "      <td>194</td>\n",
       "      <td>9</td>\n",
       "      <td>20</td>\n",
       "      <td>...</td>\n",
       "      <td>86.0</td>\n",
       "      <td>7916.0</td>\n",
       "      <td>24.893</td>\n",
       "      <td>65927.0</td>\n",
       "      <td>100.000</td>\n",
       "      <td>1861.0</td>\n",
       "      <td>2123.0</td>\n",
       "      <td>3507</td>\n",
       "      <td>False</td>\n",
       "      <td>0</td>\n",
       "    </tr>\n",
       "  </tbody>\n",
       "</table>\n",
       "<p>10 rows × 23 columns</p>\n",
       "</div>"
      ],
      "text/plain": [
       "   row_id  loan_type  property_type  loan_purpose  occupancy  loan_amount  \\\n",
       "0       0          3              1             1          1         70.0   \n",
       "1       1          1              1             3          1        178.0   \n",
       "2       2          2              1             3          1        163.0   \n",
       "3       3          1              1             1          1        155.0   \n",
       "4       4          1              1             1          1        305.0   \n",
       "5       5          1              1             3          1        133.0   \n",
       "6       6          3              1             1          1        240.0   \n",
       "7       7          2              1             1          1        210.0   \n",
       "8       8          1              1             3          2        209.0   \n",
       "9       9          1              1             3          1        197.0   \n",
       "\n",
       "   preapproval  msa_md  state_code  county_code  ...  applicant_income  \\\n",
       "0            3      18          37          246  ...              24.0   \n",
       "1            3     369          52          299  ...              57.0   \n",
       "2            3      16          10          306  ...              67.0   \n",
       "3            1     305          47          180  ...             105.0   \n",
       "4            3      24          37           20  ...              71.0   \n",
       "5            3     221          13           55  ...              51.0   \n",
       "6            3     374          28          131  ...             104.0   \n",
       "7            3     322          37           35  ...              55.0   \n",
       "8            3      24          37           20  ...             244.0   \n",
       "9            3     194           9           20  ...              86.0   \n",
       "\n",
       "   population  minority_population_pct  ffiecmedian_family_income  \\\n",
       "0      6203.0                   44.230                    60588.0   \n",
       "1      5774.0                   15.905                    54821.0   \n",
       "2      6094.0                   61.270                    67719.0   \n",
       "3      6667.0                    6.246                    78439.0   \n",
       "4      6732.0                  100.000                    63075.0   \n",
       "5      6078.0                    4.821                    82745.0   \n",
       "6      6068.0                   26.427                    65282.0   \n",
       "7      6030.0                   78.153                   108353.0   \n",
       "8      5151.0                   88.156                    63414.0   \n",
       "9      7916.0                   24.893                    65927.0   \n",
       "\n",
       "   tract_to_msa_md_income_pct  number_of_owner-occupied_units  \\\n",
       "0                      50.933                           716.0   \n",
       "1                     100.000                          1622.0   \n",
       "2                     100.000                           760.0   \n",
       "3                     100.000                          2025.0   \n",
       "4                      82.200                          1464.0   \n",
       "5                      96.550                          1827.0   \n",
       "6                      81.068                          1863.0   \n",
       "7                      59.439                           969.0   \n",
       "8                      62.813                           411.0   \n",
       "9                     100.000                          1861.0   \n",
       "\n",
       "   number_of_1_to_4_family_units  lender  co_applicant  accepted  \n",
       "0                         2642.0    4536         False         1  \n",
       "1                         2108.0    2458         False         0  \n",
       "2                         1048.0    5710         False         1  \n",
       "3                         2299.0    5888          True         1  \n",
       "4                         1847.0     289         False         1  \n",
       "5                         2340.0     964         False         1  \n",
       "6                         2560.0    5488         False         1  \n",
       "7                         1601.0    2442          True         1  \n",
       "8                          481.0    2118          True         1  \n",
       "9                         2123.0    3507         False         0  \n",
       "\n",
       "[10 rows x 23 columns]"
      ]
     },
     "execution_count": 8,
     "metadata": {},
     "output_type": "execute_result"
    }
   ],
   "source": [
    "train.head(10)"
   ]
  },
  {
   "cell_type": "markdown",
   "metadata": {},
   "source": [
    "### Making a  copy of the training and testing dataset."
   ]
  },
  {
   "cell_type": "code",
   "execution_count": 9,
   "metadata": {},
   "outputs": [],
   "source": [
    "train_original = train.copy() \n",
    "train1 = train"
   ]
  },
  {
   "cell_type": "markdown",
   "metadata": {},
   "source": [
    "# Understanding the Data"
   ]
  },
  {
   "cell_type": "code",
   "execution_count": 10,
   "metadata": {},
   "outputs": [
    {
     "data": {
      "text/plain": [
       "Index(['row_id', 'loan_type', 'property_type', 'loan_purpose', 'occupancy',\n",
       "       'loan_amount', 'preapproval', 'msa_md', 'state_code', 'county_code',\n",
       "       'applicant_ethnicity', 'applicant_race', 'applicant_sex',\n",
       "       'applicant_income', 'population', 'minority_population_pct',\n",
       "       'ffiecmedian_family_income', 'tract_to_msa_md_income_pct',\n",
       "       'number_of_owner-occupied_units', 'number_of_1_to_4_family_units',\n",
       "       'lender', 'co_applicant', 'accepted'],\n",
       "      dtype='object')"
      ]
     },
     "execution_count": 10,
     "metadata": {},
     "output_type": "execute_result"
    }
   ],
   "source": [
    "train.columns"
   ]
  },
  {
   "cell_type": "code",
   "execution_count": 11,
   "metadata": {},
   "outputs": [
    {
     "data": {
      "text/plain": [
       "row_id                              int64\n",
       "loan_type                           int64\n",
       "property_type                       int64\n",
       "loan_purpose                        int64\n",
       "occupancy                           int64\n",
       "loan_amount                       float64\n",
       "preapproval                         int64\n",
       "msa_md                              int64\n",
       "state_code                          int64\n",
       "county_code                         int64\n",
       "applicant_ethnicity                 int64\n",
       "applicant_race                      int64\n",
       "applicant_sex                       int64\n",
       "applicant_income                  float64\n",
       "population                        float64\n",
       "minority_population_pct           float64\n",
       "ffiecmedian_family_income         float64\n",
       "tract_to_msa_md_income_pct        float64\n",
       "number_of_owner-occupied_units    float64\n",
       "number_of_1_to_4_family_units     float64\n",
       "lender                              int64\n",
       "co_applicant                         bool\n",
       "accepted                            int64\n",
       "dtype: object"
      ]
     },
     "execution_count": 11,
     "metadata": {},
     "output_type": "execute_result"
    }
   ],
   "source": [
    "train.dtypes # Checking the data types of the available data"
   ]
  },
  {
   "cell_type": "markdown",
   "metadata": {},
   "source": [
    "#### Computing the correlation of the numeric features(columns)"
   ]
  },
  {
   "cell_type": "code",
   "execution_count": 12,
   "metadata": {},
   "outputs": [
    {
     "data": {
      "text/html": [
       "<div>\n",
       "<style scoped>\n",
       "    .dataframe tbody tr th:only-of-type {\n",
       "        vertical-align: middle;\n",
       "    }\n",
       "\n",
       "    .dataframe tbody tr th {\n",
       "        vertical-align: top;\n",
       "    }\n",
       "\n",
       "    .dataframe thead th {\n",
       "        text-align: right;\n",
       "    }\n",
       "</style>\n",
       "<table border=\"1\" class=\"dataframe\">\n",
       "  <thead>\n",
       "    <tr style=\"text-align: right;\">\n",
       "      <th></th>\n",
       "      <th>loan_amount</th>\n",
       "      <th>applicant_income</th>\n",
       "      <th>ffiecmedian_family_income</th>\n",
       "      <th>population</th>\n",
       "      <th>minority_population_pct</th>\n",
       "      <th>ffiecmedian_family_income</th>\n",
       "      <th>tract_to_msa_md_income_pct</th>\n",
       "      <th>number_of_owner-occupied_units</th>\n",
       "      <th>number_of_1_to_4_family_units</th>\n",
       "    </tr>\n",
       "  </thead>\n",
       "  <tbody>\n",
       "    <tr>\n",
       "      <th>loan_amount</th>\n",
       "      <td>1.000000</td>\n",
       "      <td>0.483951</td>\n",
       "      <td>0.105924</td>\n",
       "      <td>0.000100</td>\n",
       "      <td>0.007227</td>\n",
       "      <td>0.105924</td>\n",
       "      <td>0.043811</td>\n",
       "      <td>-0.013660</td>\n",
       "      <td>-0.036644</td>\n",
       "    </tr>\n",
       "    <tr>\n",
       "      <th>applicant_income</th>\n",
       "      <td>0.483951</td>\n",
       "      <td>1.000000</td>\n",
       "      <td>0.114988</td>\n",
       "      <td>-0.006948</td>\n",
       "      <td>-0.053795</td>\n",
       "      <td>0.114988</td>\n",
       "      <td>0.102667</td>\n",
       "      <td>0.004541</td>\n",
       "      <td>-0.019748</td>\n",
       "    </tr>\n",
       "    <tr>\n",
       "      <th>ffiecmedian_family_income</th>\n",
       "      <td>0.105924</td>\n",
       "      <td>0.114988</td>\n",
       "      <td>1.000000</td>\n",
       "      <td>-0.014377</td>\n",
       "      <td>0.021059</td>\n",
       "      <td>1.000000</td>\n",
       "      <td>-0.054500</td>\n",
       "      <td>-0.021390</td>\n",
       "      <td>-0.148235</td>\n",
       "    </tr>\n",
       "    <tr>\n",
       "      <th>population</th>\n",
       "      <td>0.000100</td>\n",
       "      <td>-0.006948</td>\n",
       "      <td>-0.014377</td>\n",
       "      <td>1.000000</td>\n",
       "      <td>0.087383</td>\n",
       "      <td>-0.014377</td>\n",
       "      <td>0.149677</td>\n",
       "      <td>0.858732</td>\n",
       "      <td>0.816952</td>\n",
       "    </tr>\n",
       "    <tr>\n",
       "      <th>minority_population_pct</th>\n",
       "      <td>0.007227</td>\n",
       "      <td>-0.053795</td>\n",
       "      <td>0.021059</td>\n",
       "      <td>0.087383</td>\n",
       "      <td>1.000000</td>\n",
       "      <td>0.021059</td>\n",
       "      <td>-0.442800</td>\n",
       "      <td>-0.214410</td>\n",
       "      <td>-0.157976</td>\n",
       "    </tr>\n",
       "    <tr>\n",
       "      <th>ffiecmedian_family_income</th>\n",
       "      <td>0.105924</td>\n",
       "      <td>0.114988</td>\n",
       "      <td>1.000000</td>\n",
       "      <td>-0.014377</td>\n",
       "      <td>0.021059</td>\n",
       "      <td>1.000000</td>\n",
       "      <td>-0.054500</td>\n",
       "      <td>-0.021390</td>\n",
       "      <td>-0.148235</td>\n",
       "    </tr>\n",
       "    <tr>\n",
       "      <th>tract_to_msa_md_income_pct</th>\n",
       "      <td>0.043811</td>\n",
       "      <td>0.102667</td>\n",
       "      <td>-0.054500</td>\n",
       "      <td>0.149677</td>\n",
       "      <td>-0.442800</td>\n",
       "      <td>-0.054500</td>\n",
       "      <td>1.000000</td>\n",
       "      <td>0.360774</td>\n",
       "      <td>0.210613</td>\n",
       "    </tr>\n",
       "    <tr>\n",
       "      <th>number_of_owner-occupied_units</th>\n",
       "      <td>-0.013660</td>\n",
       "      <td>0.004541</td>\n",
       "      <td>-0.021390</td>\n",
       "      <td>0.858732</td>\n",
       "      <td>-0.214410</td>\n",
       "      <td>-0.021390</td>\n",
       "      <td>0.360774</td>\n",
       "      <td>1.000000</td>\n",
       "      <td>0.887591</td>\n",
       "    </tr>\n",
       "    <tr>\n",
       "      <th>number_of_1_to_4_family_units</th>\n",
       "      <td>-0.036644</td>\n",
       "      <td>-0.019748</td>\n",
       "      <td>-0.148235</td>\n",
       "      <td>0.816952</td>\n",
       "      <td>-0.157976</td>\n",
       "      <td>-0.148235</td>\n",
       "      <td>0.210613</td>\n",
       "      <td>0.887591</td>\n",
       "      <td>1.000000</td>\n",
       "    </tr>\n",
       "  </tbody>\n",
       "</table>\n",
       "</div>"
      ],
      "text/plain": [
       "                                loan_amount  applicant_income  \\\n",
       "loan_amount                        1.000000          0.483951   \n",
       "applicant_income                   0.483951          1.000000   \n",
       "ffiecmedian_family_income          0.105924          0.114988   \n",
       "population                         0.000100         -0.006948   \n",
       "minority_population_pct            0.007227         -0.053795   \n",
       "ffiecmedian_family_income          0.105924          0.114988   \n",
       "tract_to_msa_md_income_pct         0.043811          0.102667   \n",
       "number_of_owner-occupied_units    -0.013660          0.004541   \n",
       "number_of_1_to_4_family_units     -0.036644         -0.019748   \n",
       "\n",
       "                                ffiecmedian_family_income  population  \\\n",
       "loan_amount                                      0.105924    0.000100   \n",
       "applicant_income                                 0.114988   -0.006948   \n",
       "ffiecmedian_family_income                        1.000000   -0.014377   \n",
       "population                                      -0.014377    1.000000   \n",
       "minority_population_pct                          0.021059    0.087383   \n",
       "ffiecmedian_family_income                        1.000000   -0.014377   \n",
       "tract_to_msa_md_income_pct                      -0.054500    0.149677   \n",
       "number_of_owner-occupied_units                  -0.021390    0.858732   \n",
       "number_of_1_to_4_family_units                   -0.148235    0.816952   \n",
       "\n",
       "                                minority_population_pct  \\\n",
       "loan_amount                                    0.007227   \n",
       "applicant_income                              -0.053795   \n",
       "ffiecmedian_family_income                      0.021059   \n",
       "population                                     0.087383   \n",
       "minority_population_pct                        1.000000   \n",
       "ffiecmedian_family_income                      0.021059   \n",
       "tract_to_msa_md_income_pct                    -0.442800   \n",
       "number_of_owner-occupied_units                -0.214410   \n",
       "number_of_1_to_4_family_units                 -0.157976   \n",
       "\n",
       "                                ffiecmedian_family_income  \\\n",
       "loan_amount                                      0.105924   \n",
       "applicant_income                                 0.114988   \n",
       "ffiecmedian_family_income                        1.000000   \n",
       "population                                      -0.014377   \n",
       "minority_population_pct                          0.021059   \n",
       "ffiecmedian_family_income                        1.000000   \n",
       "tract_to_msa_md_income_pct                      -0.054500   \n",
       "number_of_owner-occupied_units                  -0.021390   \n",
       "number_of_1_to_4_family_units                   -0.148235   \n",
       "\n",
       "                                tract_to_msa_md_income_pct  \\\n",
       "loan_amount                                       0.043811   \n",
       "applicant_income                                  0.102667   \n",
       "ffiecmedian_family_income                        -0.054500   \n",
       "population                                        0.149677   \n",
       "minority_population_pct                          -0.442800   \n",
       "ffiecmedian_family_income                        -0.054500   \n",
       "tract_to_msa_md_income_pct                        1.000000   \n",
       "number_of_owner-occupied_units                    0.360774   \n",
       "number_of_1_to_4_family_units                     0.210613   \n",
       "\n",
       "                                number_of_owner-occupied_units  \\\n",
       "loan_amount                                          -0.013660   \n",
       "applicant_income                                      0.004541   \n",
       "ffiecmedian_family_income                            -0.021390   \n",
       "population                                            0.858732   \n",
       "minority_population_pct                              -0.214410   \n",
       "ffiecmedian_family_income                            -0.021390   \n",
       "tract_to_msa_md_income_pct                            0.360774   \n",
       "number_of_owner-occupied_units                        1.000000   \n",
       "number_of_1_to_4_family_units                         0.887591   \n",
       "\n",
       "                                number_of_1_to_4_family_units  \n",
       "loan_amount                                         -0.036644  \n",
       "applicant_income                                    -0.019748  \n",
       "ffiecmedian_family_income                           -0.148235  \n",
       "population                                           0.816952  \n",
       "minority_population_pct                             -0.157976  \n",
       "ffiecmedian_family_income                           -0.148235  \n",
       "tract_to_msa_md_income_pct                           0.210613  \n",
       "number_of_owner-occupied_units                       0.887591  \n",
       "number_of_1_to_4_family_units                        1.000000  "
      ]
     },
     "execution_count": 12,
     "metadata": {},
     "output_type": "execute_result"
    }
   ],
   "source": [
    "num = ['loan_amount', 'applicant_income', \n",
    "          'ffiecmedian_family_income','population',\n",
    "           'minority_population_pct','ffiecmedian_family_income','tract_to_msa_md_income_pct',\n",
    "          'number_of_owner-occupied_units','number_of_1_to_4_family_units']\n",
    "train[num].corr()"
   ]
  },
  {
   "cell_type": "markdown",
   "metadata": {},
   "source": []
  },
  {
   "cell_type": "markdown",
   "metadata": {},
   "source": [
    "### Missing Value and Outliers Treatment"
   ]
  },
  {
   "cell_type": "code",
   "execution_count": 13,
   "metadata": {},
   "outputs": [
    {
     "data": {
      "text/plain": [
       "row_id                                0\n",
       "loan_type                             0\n",
       "property_type                         0\n",
       "loan_purpose                          0\n",
       "occupancy                             0\n",
       "loan_amount                           0\n",
       "preapproval                           0\n",
       "msa_md                                0\n",
       "state_code                            0\n",
       "county_code                           0\n",
       "applicant_ethnicity                   0\n",
       "applicant_race                        0\n",
       "applicant_sex                         0\n",
       "applicant_income                  39948\n",
       "population                        22465\n",
       "minority_population_pct           22466\n",
       "ffiecmedian_family_income         22440\n",
       "tract_to_msa_md_income_pct        22514\n",
       "number_of_owner-occupied_units    22565\n",
       "number_of_1_to_4_family_units     22530\n",
       "lender                                0\n",
       "co_applicant                          0\n",
       "accepted                              0\n",
       "dtype: int64"
      ]
     },
     "execution_count": 13,
     "metadata": {},
     "output_type": "execute_result"
    }
   ],
   "source": [
    "train.isnull().sum()"
   ]
  },
  {
   "cell_type": "markdown",
   "metadata": {},
   "source": [
    "### Percentage of Missing Values"
   ]
  },
  {
   "cell_type": "code",
   "execution_count": 14,
   "metadata": {},
   "outputs": [
    {
     "data": {
      "text/plain": [
       "row_id                            0.0000\n",
       "loan_type                         0.0000\n",
       "property_type                     0.0000\n",
       "loan_purpose                      0.0000\n",
       "occupancy                         0.0000\n",
       "loan_amount                       0.0000\n",
       "preapproval                       0.0000\n",
       "msa_md                            0.0000\n",
       "state_code                        0.0000\n",
       "county_code                       0.0000\n",
       "applicant_ethnicity               0.0000\n",
       "applicant_race                    0.0000\n",
       "applicant_sex                     0.0000\n",
       "applicant_income                  7.9896\n",
       "population                        4.4930\n",
       "minority_population_pct           4.4932\n",
       "ffiecmedian_family_income         4.4880\n",
       "tract_to_msa_md_income_pct        4.5028\n",
       "number_of_owner-occupied_units    4.5130\n",
       "number_of_1_to_4_family_units     4.5060\n",
       "lender                            0.0000\n",
       "co_applicant                      0.0000\n",
       "accepted                          0.0000\n",
       "dtype: float64"
      ]
     },
     "execution_count": 14,
     "metadata": {},
     "output_type": "execute_result"
    }
   ],
   "source": [
    "(train.isnull().sum())/500000 *100"
   ]
  },
  {
   "cell_type": "markdown",
   "metadata": {},
   "source": [
    "There are missing values in applicant_income, population, minority_population_pct, ffiecmedian_family_income, tract_to_msa_md_income_pct, number_of_owner-occupied_units and number_of_1_to_4_family_units features.\n",
    "With a maximum percentage of 8%.\n",
    "We will treat the missing values in all the features one by one. \n",
    "\n",
    "Also replacing -1 with nas in na's in msa_md, state_code, county_code"
   ]
  },
  {
   "cell_type": "markdown",
   "metadata": {},
   "source": [
    "### Replacing -1 with na's in msa_md, state_code, county_code"
   ]
  },
  {
   "cell_type": "code",
   "execution_count": 15,
   "metadata": {},
   "outputs": [],
   "source": [
    "def missing_val(loan):\n",
    "    loan['msa_md'] = loan['msa_md'].replace(-1, np.nan)\n",
    "    loan['state_code'] = loan['state_code'].replace(-1, np.nan)\n",
    "    loan['county_code'] = loan['county_code'].replace(-1, np.nan)\n",
    "    return loan"
   ]
  },
  {
   "cell_type": "markdown",
   "metadata": {},
   "source": [
    "### Replacing all nas with 0"
   ]
  },
  {
   "cell_type": "code",
   "execution_count": 16,
   "metadata": {},
   "outputs": [],
   "source": [
    "train.fillna(0,inplace=True)"
   ]
  },
  {
   "cell_type": "code",
   "execution_count": 17,
   "metadata": {},
   "outputs": [
    {
     "data": {
      "text/plain": [
       "row_id                            0\n",
       "loan_type                         0\n",
       "property_type                     0\n",
       "loan_purpose                      0\n",
       "occupancy                         0\n",
       "loan_amount                       0\n",
       "preapproval                       0\n",
       "msa_md                            0\n",
       "state_code                        0\n",
       "county_code                       0\n",
       "applicant_ethnicity               0\n",
       "applicant_race                    0\n",
       "applicant_sex                     0\n",
       "applicant_income                  0\n",
       "population                        0\n",
       "minority_population_pct           0\n",
       "ffiecmedian_family_income         0\n",
       "tract_to_msa_md_income_pct        0\n",
       "number_of_owner-occupied_units    0\n",
       "number_of_1_to_4_family_units     0\n",
       "lender                            0\n",
       "co_applicant                      0\n",
       "accepted                          0\n",
       "dtype: int64"
      ]
     },
     "execution_count": 17,
     "metadata": {},
     "output_type": "execute_result"
    }
   ],
   "source": [
    "train.isnull().sum()"
   ]
  },
  {
   "cell_type": "markdown",
   "metadata": {},
   "source": [
    "# Data Cleaning and Manipulation"
   ]
  },
  {
   "cell_type": "code",
   "execution_count": 18,
   "metadata": {},
   "outputs": [],
   "source": [
    "# Derived Metrics\n",
    "train['loan_income_ratio']= (train['loan_amount']/train['applicant_income'])"
   ]
  },
  {
   "cell_type": "code",
   "execution_count": 19,
   "metadata": {},
   "outputs": [],
   "source": [
    "encode = LabelEncoder()\n",
    "train['co_applicant'] = encode.fit_transform(train['co_applicant'].astype('str'))"
   ]
  },
  {
   "cell_type": "markdown",
   "metadata": {},
   "source": [
    "# FEATURES ENGINERRING"
   ]
  },
  {
   "cell_type": "markdown",
   "metadata": {},
   "source": [
    "Converting all the continous numerical features into bins depending on the minum and maximum"
   ]
  },
  {
   "cell_type": "markdown",
   "metadata": {},
   "source": [
    "### TRAIN"
   ]
  },
  {
   "cell_type": "code",
   "execution_count": 20,
   "metadata": {},
   "outputs": [],
   "source": [
    "#Income\n",
    "bins = [0,1500,4000,6000,10139] \n",
    "group = ['Low','Average','High', 'Very high'] \n",
    "train['Income_bin'] = pd.cut(train['applicant_income'],bins,labels = group)\n",
    "\n",
    "#loan_amount\n",
    "bins = [0,1500,4000,6000,1000000] \n",
    "group = ['Low','Average','High', 'Very high'] \n",
    "\n",
    "train['loan_amount_bin'] = pd.cut(train['loan_amount'],bins,labels=group)\n",
    "\n",
    "#population \n",
    "bins=[0,8000,15000,25000,40000] \n",
    "group=['Low','Average','High', 'Very high'] \n",
    "\n",
    "train['population_pop_bin']=pd.cut(train['population'],bins,labels=group)\n",
    "\n",
    "#minority_population_pct\n",
    "bins=[0,15,30,60,1000] \n",
    "group=['Low','Average','High', 'Very high'] \n",
    "\n",
    "train['min_pop_bin']=pd.cut(train['minority_population_pct'],bins,labels=group)\n",
    "\n",
    "#number_of_owner-occupied_units\n",
    "bins=[0,500, 2000,3500,5000,10000] \n",
    "group=['Low','Average','Good','High', 'Very high'] \n",
    "\n",
    "train['num_own_bin']=pd.cut(train['number_of_owner-occupied_units'],bins,labels=group)"
   ]
  },
  {
   "cell_type": "markdown",
   "metadata": {},
   "source": [
    "### TRAIN"
   ]
  },
  {
   "cell_type": "code",
   "execution_count": 21,
   "metadata": {},
   "outputs": [],
   "source": [
    "def data_manage(loan):    \n",
    "    loan['preapproval'] = loan['preapproval'].astype('category')\n",
    "    loan['applicant_race'] = loan['applicant_race'].astype('category')\n",
    "    loan['applicant_sex'] = loan['applicant_sex'].astype('category')\n",
    "    loan['loan_purpose'] = loan['loan_purpose'].astype('category')\n",
    "    loan['occupancy'] = loan['occupancy'].astype('category')\n",
    "    loan['property_type'] = loan['property_type'].astype('category')\n",
    "    loan['loan_type'] = loan['loan_type'].astype('category')\n",
    "    loan['applicant_ethnicity'] = loan['applicant_ethnicity'].astype('category')\n",
    "    loan['msa_md'] = loan['msa_md'].astype('category')\n",
    "    loan['state_code'] = loan['state_code'].astype('category')\n",
    "    loan['county_code'] = loan['county_code'].astype('category')\n",
    "    loan['accepted'] = loan['accepted'].astype('category')\n",
    "    ############\n",
    "    loan['loan_amount_bin'] = loan['loan_amount_bin'].astype('category')\n",
    "    loan['Income_bin'] = loan['Income_bin'].astype('category')\n",
    "    loan['population_pop_bin'] = loan['population_pop_bin'].astype('category')\n",
    "    loan['min_pop_bin'] = loan['min_pop_bin'].astype('category')\n",
    "    loan['num_own_bin'] = loan['num_own_bin'].astype('category')\n",
    "    \n",
    "     # set variable types (numeric)\n",
    "    \n",
    "    loan['ffiecmedian_family_income'] = pd.to_numeric(loan['ffiecmedian_family_income'])\n",
    "    loan['tract_to_msa_md_income_pct'] = pd.to_numeric(loan['tract_to_msa_md_income_pct'])\n",
    "    loan['number_of_1_to_4_family_units'] = pd.to_numeric(loan['number_of_1_to_4_family_units'])\n",
    "    loan['loan_income_ratio'] = pd.to_numeric(loan['loan_income_ratio'])\n",
    "    \n",
    "    return loan"
   ]
  },
  {
   "cell_type": "code",
   "execution_count": 22,
   "metadata": {},
   "outputs": [],
   "source": [
    "train = data_manage(train)"
   ]
  },
  {
   "cell_type": "code",
   "execution_count": 23,
   "metadata": {},
   "outputs": [],
   "source": [
    "train = train.fillna(train.mode().iloc[0])"
   ]
  },
  {
   "cell_type": "code",
   "execution_count": 24,
   "metadata": {},
   "outputs": [],
   "source": [
    "#train.isnull().sum()"
   ]
  },
  {
   "cell_type": "code",
   "execution_count": 25,
   "metadata": {},
   "outputs": [
    {
     "data": {
      "text/html": [
       "<div>\n",
       "<style scoped>\n",
       "    .dataframe tbody tr th:only-of-type {\n",
       "        vertical-align: middle;\n",
       "    }\n",
       "\n",
       "    .dataframe tbody tr th {\n",
       "        vertical-align: top;\n",
       "    }\n",
       "\n",
       "    .dataframe thead th {\n",
       "        text-align: right;\n",
       "    }\n",
       "</style>\n",
       "<table border=\"1\" class=\"dataframe\">\n",
       "  <thead>\n",
       "    <tr style=\"text-align: right;\">\n",
       "      <th></th>\n",
       "      <th>row_id</th>\n",
       "      <th>loan_type</th>\n",
       "      <th>property_type</th>\n",
       "      <th>loan_purpose</th>\n",
       "      <th>occupancy</th>\n",
       "      <th>loan_amount</th>\n",
       "      <th>preapproval</th>\n",
       "      <th>msa_md</th>\n",
       "      <th>state_code</th>\n",
       "      <th>county_code</th>\n",
       "      <th>...</th>\n",
       "      <th>number_of_1_to_4_family_units</th>\n",
       "      <th>lender</th>\n",
       "      <th>co_applicant</th>\n",
       "      <th>accepted</th>\n",
       "      <th>loan_income_ratio</th>\n",
       "      <th>Income_bin</th>\n",
       "      <th>loan_amount_bin</th>\n",
       "      <th>population_pop_bin</th>\n",
       "      <th>min_pop_bin</th>\n",
       "      <th>num_own_bin</th>\n",
       "    </tr>\n",
       "  </thead>\n",
       "  <tbody>\n",
       "    <tr>\n",
       "      <th>0</th>\n",
       "      <td>0</td>\n",
       "      <td>3</td>\n",
       "      <td>1</td>\n",
       "      <td>1</td>\n",
       "      <td>1</td>\n",
       "      <td>70.0</td>\n",
       "      <td>3</td>\n",
       "      <td>18</td>\n",
       "      <td>37</td>\n",
       "      <td>246</td>\n",
       "      <td>...</td>\n",
       "      <td>2642.0</td>\n",
       "      <td>4536</td>\n",
       "      <td>0</td>\n",
       "      <td>1</td>\n",
       "      <td>2.916667</td>\n",
       "      <td>Low</td>\n",
       "      <td>Low</td>\n",
       "      <td>Low</td>\n",
       "      <td>High</td>\n",
       "      <td>Average</td>\n",
       "    </tr>\n",
       "    <tr>\n",
       "      <th>1</th>\n",
       "      <td>1</td>\n",
       "      <td>1</td>\n",
       "      <td>1</td>\n",
       "      <td>3</td>\n",
       "      <td>1</td>\n",
       "      <td>178.0</td>\n",
       "      <td>3</td>\n",
       "      <td>369</td>\n",
       "      <td>52</td>\n",
       "      <td>299</td>\n",
       "      <td>...</td>\n",
       "      <td>2108.0</td>\n",
       "      <td>2458</td>\n",
       "      <td>0</td>\n",
       "      <td>0</td>\n",
       "      <td>3.122807</td>\n",
       "      <td>Low</td>\n",
       "      <td>Low</td>\n",
       "      <td>Low</td>\n",
       "      <td>Average</td>\n",
       "      <td>Average</td>\n",
       "    </tr>\n",
       "    <tr>\n",
       "      <th>2</th>\n",
       "      <td>2</td>\n",
       "      <td>2</td>\n",
       "      <td>1</td>\n",
       "      <td>3</td>\n",
       "      <td>1</td>\n",
       "      <td>163.0</td>\n",
       "      <td>3</td>\n",
       "      <td>16</td>\n",
       "      <td>10</td>\n",
       "      <td>306</td>\n",
       "      <td>...</td>\n",
       "      <td>1048.0</td>\n",
       "      <td>5710</td>\n",
       "      <td>0</td>\n",
       "      <td>1</td>\n",
       "      <td>2.432836</td>\n",
       "      <td>Low</td>\n",
       "      <td>Low</td>\n",
       "      <td>Low</td>\n",
       "      <td>Very high</td>\n",
       "      <td>Average</td>\n",
       "    </tr>\n",
       "    <tr>\n",
       "      <th>3</th>\n",
       "      <td>3</td>\n",
       "      <td>1</td>\n",
       "      <td>1</td>\n",
       "      <td>1</td>\n",
       "      <td>1</td>\n",
       "      <td>155.0</td>\n",
       "      <td>1</td>\n",
       "      <td>305</td>\n",
       "      <td>47</td>\n",
       "      <td>180</td>\n",
       "      <td>...</td>\n",
       "      <td>2299.0</td>\n",
       "      <td>5888</td>\n",
       "      <td>1</td>\n",
       "      <td>1</td>\n",
       "      <td>1.476190</td>\n",
       "      <td>Low</td>\n",
       "      <td>Low</td>\n",
       "      <td>Low</td>\n",
       "      <td>Low</td>\n",
       "      <td>Good</td>\n",
       "    </tr>\n",
       "    <tr>\n",
       "      <th>4</th>\n",
       "      <td>4</td>\n",
       "      <td>1</td>\n",
       "      <td>1</td>\n",
       "      <td>1</td>\n",
       "      <td>1</td>\n",
       "      <td>305.0</td>\n",
       "      <td>3</td>\n",
       "      <td>24</td>\n",
       "      <td>37</td>\n",
       "      <td>20</td>\n",
       "      <td>...</td>\n",
       "      <td>1847.0</td>\n",
       "      <td>289</td>\n",
       "      <td>0</td>\n",
       "      <td>1</td>\n",
       "      <td>4.295775</td>\n",
       "      <td>Low</td>\n",
       "      <td>Low</td>\n",
       "      <td>Low</td>\n",
       "      <td>Very high</td>\n",
       "      <td>Average</td>\n",
       "    </tr>\n",
       "  </tbody>\n",
       "</table>\n",
       "<p>5 rows × 29 columns</p>\n",
       "</div>"
      ],
      "text/plain": [
       "   row_id loan_type property_type loan_purpose occupancy  loan_amount  \\\n",
       "0       0         3             1            1         1         70.0   \n",
       "1       1         1             1            3         1        178.0   \n",
       "2       2         2             1            3         1        163.0   \n",
       "3       3         1             1            1         1        155.0   \n",
       "4       4         1             1            1         1        305.0   \n",
       "\n",
       "  preapproval msa_md state_code county_code  ...  \\\n",
       "0           3     18         37         246  ...   \n",
       "1           3    369         52         299  ...   \n",
       "2           3     16         10         306  ...   \n",
       "3           1    305         47         180  ...   \n",
       "4           3     24         37          20  ...   \n",
       "\n",
       "  number_of_1_to_4_family_units lender co_applicant  accepted  \\\n",
       "0                        2642.0   4536            0         1   \n",
       "1                        2108.0   2458            0         0   \n",
       "2                        1048.0   5710            0         1   \n",
       "3                        2299.0   5888            1         1   \n",
       "4                        1847.0    289            0         1   \n",
       "\n",
       "   loan_income_ratio  Income_bin  loan_amount_bin  population_pop_bin  \\\n",
       "0           2.916667         Low              Low                 Low   \n",
       "1           3.122807         Low              Low                 Low   \n",
       "2           2.432836         Low              Low                 Low   \n",
       "3           1.476190         Low              Low                 Low   \n",
       "4           4.295775         Low              Low                 Low   \n",
       "\n",
       "   min_pop_bin  num_own_bin  \n",
       "0         High      Average  \n",
       "1      Average      Average  \n",
       "2    Very high      Average  \n",
       "3          Low         Good  \n",
       "4    Very high      Average  \n",
       "\n",
       "[5 rows x 29 columns]"
      ]
     },
     "execution_count": 25,
     "metadata": {},
     "output_type": "execute_result"
    }
   ],
   "source": [
    "train.head()"
   ]
  },
  {
   "cell_type": "code",
   "execution_count": 26,
   "metadata": {},
   "outputs": [],
   "source": [
    "train = train.drop(['row_id'], axis=1)"
   ]
  },
  {
   "cell_type": "code",
   "execution_count": 27,
   "metadata": {},
   "outputs": [],
   "source": [
    "y = train.accepted\n",
    "X = train.drop('accepted',axis=1) # Dropping the deepending variable from the features to be trained\n"
   ]
  },
  {
   "cell_type": "markdown",
   "metadata": {},
   "source": [
    "### Univariate Analysis"
   ]
  },
  {
   "cell_type": "markdown",
   "metadata": {},
   "source": [
    "In this section, we will do univariate analysis. which is the simplest form of analyzing data where we examine each variable individually."
   ]
  },
  {
   "cell_type": "markdown",
   "metadata": {},
   "source": [
    "For categorical features, i will use frequency table or bar plots which will calculate the number of each category in a particular variable."
   ]
  },
  {
   "cell_type": "markdown",
   "metadata": {},
   "source": [
    "For numerical features, probability density plots will be used to look at the distribution of the variable."
   ]
  },
  {
   "cell_type": "markdown",
   "metadata": {},
   "source": [
    "### Target Variable(accepted )"
   ]
  },
  {
   "cell_type": "code",
   "execution_count": 28,
   "metadata": {},
   "outputs": [
    {
     "data": {
      "text/plain": [
       "1    250114\n",
       "0    249886\n",
       "Name: accepted, dtype: int64"
      ]
     },
     "execution_count": 28,
     "metadata": {},
     "output_type": "execute_result"
    }
   ],
   "source": [
    " train1['accepted'].value_counts()"
   ]
  },
  {
   "cell_type": "markdown",
   "metadata": {},
   "source": [
    "we set Normalize to True to print proportions instead of number"
   ]
  },
  {
   "cell_type": "code",
   "execution_count": 29,
   "metadata": {},
   "outputs": [
    {
     "data": {
      "text/plain": [
       "1    0.500228\n",
       "0    0.499772\n",
       "Name: accepted, dtype: float64"
      ]
     },
     "execution_count": 29,
     "metadata": {},
     "output_type": "execute_result"
    }
   ],
   "source": [
    " train1['accepted'].value_counts(normalize = True)"
   ]
  },
  {
   "cell_type": "code",
   "execution_count": 30,
   "metadata": {},
   "outputs": [
    {
     "data": {
      "text/plain": [
       "<AxesSubplot:>"
      ]
     },
     "execution_count": 30,
     "metadata": {},
     "output_type": "execute_result"
    },
    {
     "data": {
      "image/png": "[encoded data removed]",
      "text/plain": [
       "<Figure size 432x288 with 1 Axes>"
      ]
     },
     "metadata": {
      "needs_background": "light"
     },
     "output_type": "display_data"
    }
   ],
   "source": [
    " train1['accepted'].value_counts().plot.bar()"
   ]
  },
  {
   "cell_type": "markdown",
   "metadata": {},
   "source": [
    "Out of the total loan applied for the year, 250114 (around 50%) was approved and the others was rejected(approximatelty 50%). Which shows that we have a balance data."
   ]
  },
  {
   "cell_type": "markdown",
   "metadata": {},
   "source": [
    "### Categorical(Independent Variable)"
   ]
  },
  {
   "cell_type": "markdown",
   "metadata": {},
   "source": [
    "Visualizing each variable separately."
   ]
  },
  {
   "cell_type": "code",
   "execution_count": 31,
   "metadata": {},
   "outputs": [
    {
     "data": {
      "image/png": "[encoded data removed]",
      "text/plain": [
       "<Figure size 1440x720 with 4 Axes>"
      ]
     },
     "metadata": {
      "needs_background": "light"
     },
     "output_type": "display_data"
    }
   ],
   "source": [
    "plt.figure(1)\n",
    "plt.subplot(221)\n",
    "train1['loan_purpose'].value_counts(normalize=True).plot.bar(figsize=(20,10), title= 'loan_purpose') \n",
    "\n",
    "plt.subplot(222)\n",
    "train1['occupancy'].value_counts(normalize=True).plot.bar(title= 'occupancy') \n",
    "\n",
    "plt.subplot(223) \n",
    "train1['property_type'].value_counts(normalize=True).plot.bar(title= 'property_type') \n",
    "\n",
    "plt.subplot(224) \n",
    "train1['loan_type'].value_counts(normalize=True).plot.bar(title= 'loan_type') \n",
    "plt.show()"
   ]
  },
  {
   "cell_type": "code",
   "execution_count": 32,
   "metadata": {},
   "outputs": [
    {
     "data": {
      "image/png": "[encoded data removed]",
      "text/plain": [
       "<Figure size 1440x720 with 4 Axes>"
      ]
     },
     "metadata": {
      "needs_background": "light"
     },
     "output_type": "display_data"
    }
   ],
   "source": [
    "plt.figure(1)\n",
    "plt.subplot(221)\n",
    "train1['preapproval'].value_counts(normalize=True).plot.bar(figsize=(20,10), title= 'preapproval') \n",
    "\n",
    "plt.subplot(222)\n",
    "train1['applicant_race'].value_counts(normalize=True).plot.bar(title= 'applicant_race') \n",
    "\n",
    "plt.subplot(223) \n",
    "train1['applicant_sex'].value_counts(normalize=True).plot.bar(title= 'applicant_sex') \n",
    "\n",
    "plt.subplot(224) \n",
    "train1['applicant_ethnicity'].value_counts(normalize=True).plot.bar(title= 'applicant_ethnicity') \n",
    "plt.show()"
   ]
  },
  {
   "cell_type": "code",
   "execution_count": 33,
   "metadata": {},
   "outputs": [
    {
     "data": {
      "image/png": "[encoded data removed]",
      "text/plain": [
       "<Figure size 1440x720 with 4 Axes>"
      ]
     },
     "metadata": {
      "needs_background": "light"
     },
     "output_type": "display_data"
    }
   ],
   "source": [
    "plt.figure(1)\n",
    "plt.subplot(221)\n",
    "train1['msa_md'].value_counts(normalize=True).plot.bar(figsize=(20,10), title= 'msa_md') \n",
    "\n",
    "plt.subplot(222)\n",
    "train1['state_code'].value_counts(normalize=True).plot.barh(title= 'state_code') \n",
    "\n",
    "plt.subplot(223) \n",
    "train1['county_code'].value_counts(normalize=True).plot.barh(title= 'country_code') \n",
    "\n",
    "plt.subplot(224) \n",
    "train1['lender'].value_counts(normalize=True).plot.barh(title= 'lender') \n",
    "plt.show()"
   ]
  },
  {
   "cell_type": "code",
   "execution_count": 34,
   "metadata": {},
   "outputs": [
    {
     "data": {
      "image/png": "[encoded data removed]",
      "text/plain": [
       "<Figure size 1440x720 with 1 Axes>"
      ]
     },
     "metadata": {
      "needs_background": "light"
     },
     "output_type": "display_data"
    }
   ],
   "source": [
    "plt.figure(1)\n",
    "plt.subplot(221)\n",
    "train1['co_applicant'].value_counts(normalize=True).plot.bar(figsize=(20,10), title= 'co_applicant') \n",
    "plt.show()"
   ]
  },
  {
   "cell_type": "markdown",
   "metadata": {},
   "source": [
    "### Numerical"
   ]
  },
  {
   "cell_type": "code",
   "execution_count": 35,
   "metadata": {},
   "outputs": [
    {
     "data": {
      "text/html": [
       "<div>\n",
       "<style scoped>\n",
       "    .dataframe tbody tr th:only-of-type {\n",
       "        vertical-align: middle;\n",
       "    }\n",
       "\n",
       "    .dataframe tbody tr th {\n",
       "        vertical-align: top;\n",
       "    }\n",
       "\n",
       "    .dataframe thead th {\n",
       "        text-align: right;\n",
       "    }\n",
       "</style>\n",
       "<table border=\"1\" class=\"dataframe\">\n",
       "  <thead>\n",
       "    <tr style=\"text-align: right;\">\n",
       "      <th></th>\n",
       "      <th>row_id</th>\n",
       "      <th>loan_type</th>\n",
       "      <th>property_type</th>\n",
       "      <th>loan_purpose</th>\n",
       "      <th>occupancy</th>\n",
       "      <th>loan_amount</th>\n",
       "      <th>preapproval</th>\n",
       "      <th>msa_md</th>\n",
       "      <th>state_code</th>\n",
       "      <th>county_code</th>\n",
       "      <th>...</th>\n",
       "      <th>number_of_1_to_4_family_units</th>\n",
       "      <th>lender</th>\n",
       "      <th>co_applicant</th>\n",
       "      <th>accepted</th>\n",
       "      <th>loan_income_ratio</th>\n",
       "      <th>Income_bin</th>\n",
       "      <th>loan_amount_bin</th>\n",
       "      <th>population_pop_bin</th>\n",
       "      <th>min_pop_bin</th>\n",
       "      <th>num_own_bin</th>\n",
       "    </tr>\n",
       "  </thead>\n",
       "  <tbody>\n",
       "    <tr>\n",
       "      <th>0</th>\n",
       "      <td>0</td>\n",
       "      <td>3</td>\n",
       "      <td>1</td>\n",
       "      <td>1</td>\n",
       "      <td>1</td>\n",
       "      <td>70.0</td>\n",
       "      <td>3</td>\n",
       "      <td>18</td>\n",
       "      <td>37</td>\n",
       "      <td>246</td>\n",
       "      <td>...</td>\n",
       "      <td>2642.0</td>\n",
       "      <td>4536</td>\n",
       "      <td>0</td>\n",
       "      <td>1</td>\n",
       "      <td>2.916667</td>\n",
       "      <td>Low</td>\n",
       "      <td>Low</td>\n",
       "      <td>Low</td>\n",
       "      <td>High</td>\n",
       "      <td>Average</td>\n",
       "    </tr>\n",
       "    <tr>\n",
       "      <th>1</th>\n",
       "      <td>1</td>\n",
       "      <td>1</td>\n",
       "      <td>1</td>\n",
       "      <td>3</td>\n",
       "      <td>1</td>\n",
       "      <td>178.0</td>\n",
       "      <td>3</td>\n",
       "      <td>369</td>\n",
       "      <td>52</td>\n",
       "      <td>299</td>\n",
       "      <td>...</td>\n",
       "      <td>2108.0</td>\n",
       "      <td>2458</td>\n",
       "      <td>0</td>\n",
       "      <td>0</td>\n",
       "      <td>3.122807</td>\n",
       "      <td>Low</td>\n",
       "      <td>Low</td>\n",
       "      <td>Low</td>\n",
       "      <td>Average</td>\n",
       "      <td>Average</td>\n",
       "    </tr>\n",
       "    <tr>\n",
       "      <th>2</th>\n",
       "      <td>2</td>\n",
       "      <td>2</td>\n",
       "      <td>1</td>\n",
       "      <td>3</td>\n",
       "      <td>1</td>\n",
       "      <td>163.0</td>\n",
       "      <td>3</td>\n",
       "      <td>16</td>\n",
       "      <td>10</td>\n",
       "      <td>306</td>\n",
       "      <td>...</td>\n",
       "      <td>1048.0</td>\n",
       "      <td>5710</td>\n",
       "      <td>0</td>\n",
       "      <td>1</td>\n",
       "      <td>2.432836</td>\n",
       "      <td>Low</td>\n",
       "      <td>Low</td>\n",
       "      <td>Low</td>\n",
       "      <td>Very high</td>\n",
       "      <td>Average</td>\n",
       "    </tr>\n",
       "    <tr>\n",
       "      <th>3</th>\n",
       "      <td>3</td>\n",
       "      <td>1</td>\n",
       "      <td>1</td>\n",
       "      <td>1</td>\n",
       "      <td>1</td>\n",
       "      <td>155.0</td>\n",
       "      <td>1</td>\n",
       "      <td>305</td>\n",
       "      <td>47</td>\n",
       "      <td>180</td>\n",
       "      <td>...</td>\n",
       "      <td>2299.0</td>\n",
       "      <td>5888</td>\n",
       "      <td>1</td>\n",
       "      <td>1</td>\n",
       "      <td>1.476190</td>\n",
       "      <td>Low</td>\n",
       "      <td>Low</td>\n",
       "      <td>Low</td>\n",
       "      <td>Low</td>\n",
       "      <td>Good</td>\n",
       "    </tr>\n",
       "    <tr>\n",
       "      <th>4</th>\n",
       "      <td>4</td>\n",
       "      <td>1</td>\n",
       "      <td>1</td>\n",
       "      <td>1</td>\n",
       "      <td>1</td>\n",
       "      <td>305.0</td>\n",
       "      <td>3</td>\n",
       "      <td>24</td>\n",
       "      <td>37</td>\n",
       "      <td>20</td>\n",
       "      <td>...</td>\n",
       "      <td>1847.0</td>\n",
       "      <td>289</td>\n",
       "      <td>0</td>\n",
       "      <td>1</td>\n",
       "      <td>4.295775</td>\n",
       "      <td>Low</td>\n",
       "      <td>Low</td>\n",
       "      <td>Low</td>\n",
       "      <td>Very high</td>\n",
       "      <td>Average</td>\n",
       "    </tr>\n",
       "  </tbody>\n",
       "</table>\n",
       "<p>5 rows × 29 columns</p>\n",
       "</div>"
      ],
      "text/plain": [
       "   row_id loan_type property_type loan_purpose occupancy  loan_amount  \\\n",
       "0       0         3             1            1         1         70.0   \n",
       "1       1         1             1            3         1        178.0   \n",
       "2       2         2             1            3         1        163.0   \n",
       "3       3         1             1            1         1        155.0   \n",
       "4       4         1             1            1         1        305.0   \n",
       "\n",
       "  preapproval msa_md state_code county_code  ...  \\\n",
       "0           3     18         37         246  ...   \n",
       "1           3    369         52         299  ...   \n",
       "2           3     16         10         306  ...   \n",
       "3           1    305         47         180  ...   \n",
       "4           3     24         37          20  ...   \n",
       "\n",
       "  number_of_1_to_4_family_units lender co_applicant  accepted  \\\n",
       "0                        2642.0   4536            0         1   \n",
       "1                        2108.0   2458            0         0   \n",
       "2                        1048.0   5710            0         1   \n",
       "3                        2299.0   5888            1         1   \n",
       "4                        1847.0    289            0         1   \n",
       "\n",
       "   loan_income_ratio  Income_bin  loan_amount_bin  population_pop_bin  \\\n",
       "0           2.916667         Low              Low                 Low   \n",
       "1           3.122807         Low              Low                 Low   \n",
       "2           2.432836         Low              Low                 Low   \n",
       "3           1.476190         Low              Low                 Low   \n",
       "4           4.295775         Low              Low                 Low   \n",
       "\n",
       "   min_pop_bin  num_own_bin  \n",
       "0         High      Average  \n",
       "1      Average      Average  \n",
       "2    Very high      Average  \n",
       "3          Low         Good  \n",
       "4    Very high      Average  \n",
       "\n",
       "[5 rows x 29 columns]"
      ]
     },
     "execution_count": 35,
     "metadata": {},
     "output_type": "execute_result"
    }
   ],
   "source": [
    "train1 = train1.dropna()\n",
    "train1.head()"
   ]
  },
  {
   "cell_type": "code",
   "execution_count": null,
   "metadata": {},
   "outputs": [],
   "source": []
  },
  {
   "cell_type": "code",
   "execution_count": 36,
   "metadata": {},
   "outputs": [
    {
     "data": {
      "image/png": "[encoded data removed]",
      "text/plain": [
       "<Figure size 1152x360 with 2 Axes>"
      ]
     },
     "metadata": {
      "needs_background": "light"
     },
     "output_type": "display_data"
    }
   ],
   "source": [
    "plt.figure(1) \n",
    "plt.subplot(121)\n",
    "sns.distplot(train1['loan_amount']); \n",
    "plt.subplot(122)\n",
    "train1['loan_amount'].plot.box(figsize=(16,5)) \n",
    "plt.show()"
   ]
  },
  {
   "cell_type": "code",
   "execution_count": 37,
   "metadata": {},
   "outputs": [
    {
     "data": {
      "image/png": "[encoded data removed]",
      "text/plain": [
       "<Figure size 1152x360 with 2 Axes>"
      ]
     },
     "metadata": {
      "needs_background": "light"
     },
     "output_type": "display_data"
    }
   ],
   "source": [
    "plt.figure(1) \n",
    "plt.subplot(121)\n",
    "sns.distplot(train1['applicant_income']); \n",
    "plt.subplot(122)\n",
    "train1['applicant_income'].plot.box(figsize=(16,5)) \n",
    "plt.show()"
   ]
  },
  {
   "cell_type": "code",
   "execution_count": 38,
   "metadata": {},
   "outputs": [
    {
     "data": {
      "image/png": "[encoded data removed]",
      "text/plain": [
       "<Figure size 1152x360 with 2 Axes>"
      ]
     },
     "metadata": {
      "needs_background": "light"
     },
     "output_type": "display_data"
    }
   ],
   "source": [
    "plt.figure(1) \n",
    "plt.subplot(121)\n",
    "sns.distplot(train1['minority_population_pct']); \n",
    "plt.subplot(122)\n",
    "train1['minority_population_pct'].plot.box(figsize=(16,5)) \n",
    "plt.show()"
   ]
  },
  {
   "cell_type": "code",
   "execution_count": 39,
   "metadata": {},
   "outputs": [
    {
     "data": {
      "image/png": "[encoded data removed]",
      "text/plain": [
       "<Figure size 1152x360 with 2 Axes>"
      ]
     },
     "metadata": {
      "needs_background": "light"
     },
     "output_type": "display_data"
    }
   ],
   "source": [
    "plt.figure(1) \n",
    "plt.subplot(121)\n",
    "sns.distplot(train1['ffiecmedian_family_income']); \n",
    "plt.subplot(122)\n",
    "train1['ffiecmedian_family_income'].plot.box(figsize=(16,5)) \n",
    "plt.show()"
   ]
  },
  {
   "cell_type": "code",
   "execution_count": 40,
   "metadata": {},
   "outputs": [
    {
     "data": {
      "image/png": "[encoded data removed]",
      "text/plain": [
       "<Figure size 1152x360 with 2 Axes>"
      ]
     },
     "metadata": {
      "needs_background": "light"
     },
     "output_type": "display_data"
    }
   ],
   "source": [
    "plt.figure(1) \n",
    "plt.subplot(121)\n",
    "sns.distplot(train1['tract_to_msa_md_income_pct']); \n",
    "plt.subplot(122)\n",
    "train1['tract_to_msa_md_income_pct'].plot.box(figsize=(16,5))  \n",
    "plt.show()"
   ]
  },
  {
   "cell_type": "code",
   "execution_count": 41,
   "metadata": {},
   "outputs": [
    {
     "data": {
      "image/png": "[encoded data removed]",
      "text/plain": [
       "<Figure size 1152x360 with 2 Axes>"
      ]
     },
     "metadata": {
      "needs_background": "light"
     },
     "output_type": "display_data"
    }
   ],
   "source": [
    "plt.figure(1) \n",
    "plt.subplot(121)\n",
    "sns.distplot(train1['number_of_owner-occupied_units']); \n",
    "plt.subplot(122)\n",
    "train1['number_of_owner-occupied_units'].plot.box(figsize=(16,5)) \n",
    "plt.show()"
   ]
  },
  {
   "cell_type": "code",
   "execution_count": 42,
   "metadata": {},
   "outputs": [
    {
     "data": {
      "image/png": "[encoded data removed]",
      "text/plain": [
       "<Figure size 1152x360 with 2 Axes>"
      ]
     },
     "metadata": {
      "needs_background": "light"
     },
     "output_type": "display_data"
    }
   ],
   "source": [
    "plt.figure(1) \n",
    "plt.subplot(121)\n",
    "sns.distplot(train1['number_of_1_to_4_family_units']); \n",
    "plt.subplot(122)\n",
    "train1['number_of_1_to_4_family_units'].plot.box(figsize=(16,5)) \n",
    "plt.show()"
   ]
  },
  {
   "cell_type": "markdown",
   "metadata": {},
   "source": [
    "### Bivariate Analysis"
   ]
  },
  {
   "cell_type": "markdown",
   "metadata": {},
   "source": [
    "#### Categorical Independent Variable vs Target Variable"
   ]
  },
  {
   "cell_type": "code",
   "execution_count": 43,
   "metadata": {},
   "outputs": [
    {
     "data": {
      "text/plain": [
       "<AxesSubplot:xlabel='loan_type'>"
      ]
     },
     "execution_count": 43,
     "metadata": {},
     "output_type": "execute_result"
    },
    {
     "data": {
      "image/png": "[encoded data removed]",
      "text/plain": [
       "<Figure size 432x288 with 1 Axes>"
      ]
     },
     "metadata": {
      "needs_background": "light"
     },
     "output_type": "display_data"
    }
   ],
   "source": [
    "loan_type=pd.crosstab(train1['loan_type'],train1['accepted'])\n",
    "loan_type.div(loan_type.sum(1).astype(float),\n",
    "              axis=0).plot(kind=\"bar\", stacked=True, figsize=(6,4))"
   ]
  },
  {
   "cell_type": "code",
   "execution_count": 44,
   "metadata": {},
   "outputs": [
    {
     "data": {
      "text/plain": [
       "<AxesSubplot:xlabel='property_type'>"
      ]
     },
     "execution_count": 44,
     "metadata": {},
     "output_type": "execute_result"
    },
    {
     "data": {
      "image/png": "[encoded data removed]",
      "text/plain": [
       "<Figure size 432x288 with 1 Axes>"
      ]
     },
     "metadata": {
      "needs_background": "light"
     },
     "output_type": "display_data"
    }
   ],
   "source": [
    "property_type=pd.crosstab(train1['property_type'],train1['accepted'])\n",
    "property_type.div(property_type.sum(1).astype(float),\n",
    "                  axis=0).plot(kind=\"bar\", stacked=True, figsize=(6,4))"
   ]
  },
  {
   "cell_type": "code",
   "execution_count": 45,
   "metadata": {},
   "outputs": [
    {
     "data": {
      "text/plain": [
       "<AxesSubplot:xlabel='occupancy'>"
      ]
     },
     "execution_count": 45,
     "metadata": {},
     "output_type": "execute_result"
    },
    {
     "data": {
      "image/png": "[encoded data removed]",
      "text/plain": [
       "<Figure size 432x288 with 1 Axes>"
      ]
     },
     "metadata": {
      "needs_background": "light"
     },
     "output_type": "display_data"
    }
   ],
   "source": [
    "occupancy=pd.crosstab(train1['occupancy'],train1['accepted'])\n",
    "occupancy.div(occupancy.sum(1).astype(float),\n",
    "              axis=0).plot(kind=\"bar\", stacked=True, figsize=(6,4))"
   ]
  },
  {
   "cell_type": "code",
   "execution_count": 46,
   "metadata": {},
   "outputs": [
    {
     "data": {
      "text/plain": [
       "<AxesSubplot:xlabel='loan_purpose'>"
      ]
     },
     "execution_count": 46,
     "metadata": {},
     "output_type": "execute_result"
    },
    {
     "data": {
      "image/png": "[encoded data removed]",
      "text/plain": [
       "<Figure size 432x288 with 1 Axes>"
      ]
     },
     "metadata": {
      "needs_background": "light"
     },
     "output_type": "display_data"
    }
   ],
   "source": [
    "loan_purpose=pd.crosstab(train1['loan_purpose'],train1['accepted'])\n",
    "loan_purpose.div(loan_purpose.sum(1).astype(float), \n",
    "                 axis=0).plot(kind=\"bar\", stacked=True, figsize=(6,4))"
   ]
  },
  {
   "cell_type": "code",
   "execution_count": 47,
   "metadata": {},
   "outputs": [
    {
     "data": {
      "text/plain": [
       "<AxesSubplot:xlabel='applicant_sex'>"
      ]
     },
     "execution_count": 47,
     "metadata": {},
     "output_type": "execute_result"
    },
    {
     "data": {
      "image/png": "[encoded data removed]",
      "text/plain": [
       "<Figure size 432x288 with 1 Axes>"
      ]
     },
     "metadata": {
      "needs_background": "light"
     },
     "output_type": "display_data"
    }
   ],
   "source": [
    "applicant_sex=pd.crosstab(train1['applicant_sex'],train1['accepted'])\n",
    "applicant_sex.div(applicant_sex.sum(1).astype(float),\n",
    "                  axis=0).plot(kind=\"bar\", stacked=True, figsize=(6,4))"
   ]
  },
  {
   "cell_type": "code",
   "execution_count": 48,
   "metadata": {},
   "outputs": [
    {
     "data": {
      "text/plain": [
       "<AxesSubplot:xlabel='applicant_race'>"
      ]
     },
     "execution_count": 48,
     "metadata": {},
     "output_type": "execute_result"
    },
    {
     "data": {
      "image/png": "[encoded data removed]",
      "text/plain": [
       "<Figure size 432x288 with 1 Axes>"
      ]
     },
     "metadata": {
      "needs_background": "light"
     },
     "output_type": "display_data"
    }
   ],
   "source": [
    "applicant_race=pd.crosstab(train1['applicant_race'],train1['accepted'])\n",
    "applicant_race.div(applicant_race.sum(1).astype(float),\n",
    "                   axis=0).plot(kind=\"bar\", stacked=True, figsize=(6,4))"
   ]
  },
  {
   "cell_type": "code",
   "execution_count": 49,
   "metadata": {},
   "outputs": [
    {
     "data": {
      "text/plain": [
       "<AxesSubplot:xlabel='preapproval'>"
      ]
     },
     "execution_count": 49,
     "metadata": {},
     "output_type": "execute_result"
    },
    {
     "data": {
      "image/png": "[encoded data removed]",
      "text/plain": [
       "<Figure size 432x288 with 1 Axes>"
      ]
     },
     "metadata": {
      "needs_background": "light"
     },
     "output_type": "display_data"
    }
   ],
   "source": [
    "preapproval=pd.crosstab(train1['preapproval'],train1['accepted'])\n",
    "preapproval.div(preapproval.sum(1).astype(float),\n",
    "                axis=0).plot(kind=\"bar\", stacked=True, figsize=(6,4))"
   ]
  },
  {
   "cell_type": "code",
   "execution_count": 50,
   "metadata": {},
   "outputs": [
    {
     "data": {
      "text/plain": [
       "<AxesSubplot:xlabel='applicant_ethnicity'>"
      ]
     },
     "execution_count": 50,
     "metadata": {},
     "output_type": "execute_result"
    },
    {
     "data": {
      "image/png": "[encoded data removed]",
      "text/plain": [
       "<Figure size 432x288 with 1 Axes>"
      ]
     },
     "metadata": {
      "needs_background": "light"
     },
     "output_type": "display_data"
    }
   ],
   "source": [
    "applicant_ethnicity=pd.crosstab(train1['applicant_ethnicity'],train1['accepted'])\n",
    "applicant_ethnicity.div(applicant_ethnicity.sum(1).astype(float),\n",
    "                        axis=0).plot(kind=\"bar\", stacked=True, figsize=(6,4))"
   ]
  },
  {
   "cell_type": "markdown",
   "metadata": {},
   "source": [
    "### Numerical Independent Variable vs Target Variable"
   ]
  },
  {
   "cell_type": "code",
   "execution_count": 51,
   "metadata": {},
   "outputs": [
    {
     "data": {
      "text/plain": [
       "<AxesSubplot:xlabel='accepted'>"
      ]
     },
     "execution_count": 51,
     "metadata": {},
     "output_type": "execute_result"
    },
    {
     "data": {
      "image/png": "[encoded data removed]",
      "text/plain": [
       "<Figure size 432x288 with 1 Axes>"
      ]
     },
     "metadata": {
      "needs_background": "light"
     },
     "output_type": "display_data"
    }
   ],
   "source": [
    "train1.groupby('accepted')['applicant_income'].mean().plot.bar()"
   ]
  },
  {
   "cell_type": "code",
   "execution_count": 52,
   "metadata": {},
   "outputs": [
    {
     "data": {
      "image/png": "[encoded data removed]",
      "text/plain": [
       "<Figure size 432x288 with 1 Axes>"
      ]
     },
     "metadata": {
      "needs_background": "light"
     },
     "output_type": "display_data"
    }
   ],
   "source": [
    "bins=[0,1500,4000,6000,10139] \n",
    "group=['Low','Average','High', 'Very high'] \n",
    "\n",
    "train1['Income_bin']=pd.cut(train1['applicant_income'],bins,labels=group)\n",
    "\n",
    "Income_bin=pd.crosstab(train1['Income_bin'],train1['accepted'])\n",
    "\n",
    "Income_bin.div(Income_bin.sum(1).astype(float), axis=0).plot(kind=\"bar\", stacked=True)\n",
    "\n",
    "plt.xlabel('applicant_income') \n",
    "P = plt.ylabel('Percentage')"
   ]
  },
  {
   "cell_type": "code",
   "execution_count": 53,
   "metadata": {},
   "outputs": [
    {
     "data": {
      "image/png": "[encoded data removed]",
      "text/plain": [
       "<Figure size 432x288 with 1 Axes>"
      ]
     },
     "metadata": {
      "needs_background": "light"
     },
     "output_type": "display_data"
    }
   ],
   "source": [
    "bins=[0,1500,4000,6000,15983] \n",
    "group=['Low','Average','High', 'Very high'] \n",
    "\n",
    "train1['loan_amount_bin']=pd.cut(train1['loan_amount'],bins,labels=group)\n",
    "\n",
    "loan_amount_bin=pd.crosstab(train1['loan_amount_bin'],train1['accepted'])\n",
    "\n",
    "loan_amount_bin.div(loan_amount_bin.sum(1).astype(float), axis=0).plot(kind=\"bar\", stacked=True)\n",
    "\n",
    "plt.xlabel('loan_amount') \n",
    "P = plt.ylabel('Percentage')"
   ]
  },
  {
   "cell_type": "code",
   "execution_count": 54,
   "metadata": {},
   "outputs": [
    {
     "data": {
      "image/png": "[encoded data removed]",
      "text/plain": [
       "<Figure size 432x288 with 1 Axes>"
      ]
     },
     "metadata": {
      "needs_background": "light"
     },
     "output_type": "display_data"
    }
   ],
   "source": [
    "bins=[0,8000,15000,25000,40000] \n",
    "group=['Low','Average','High', 'Very high'] \n",
    "\n",
    "train1['population_pop_bin']=pd.cut(train1['population'],bins,labels=group)\n",
    "\n",
    "population_pop_bin=pd.crosstab(train1['loan_amount_bin'],train1['accepted'])\n",
    "\n",
    "population_pop_bin.div(population_pop_bin.sum(1).astype(float),\n",
    "                       axis=0).plot(kind=\"bar\", stacked=True)\n",
    "plt.xlabel('population') \n",
    "P = plt.ylabel('Percentage')"
   ]
  },
  {
   "cell_type": "code",
   "execution_count": 55,
   "metadata": {},
   "outputs": [
    {
     "data": {
      "image/png": "[encoded data removed]",
      "text/plain": [
       "<Figure size 432x288 with 1 Axes>"
      ]
     },
     "metadata": {
      "needs_background": "light"
     },
     "output_type": "display_data"
    }
   ],
   "source": [
    "bins=[0,15,30,60,100] \n",
    "group=['Low','Average','High', 'Very high'] \n",
    "\n",
    "train1['min_pop_bin']=pd.cut(train1['minority_population_pct'],bins,labels=group)\n",
    "\n",
    "Income_bin=pd.crosstab(train1['min_pop_bin'],train1['accepted'])\n",
    "\n",
    "Income_bin.div(Income_bin.sum(1).astype(float), axis=0).plot(kind=\"bar\", stacked=True)\n",
    "\n",
    "plt.xlabel('minority_population_pct') \n",
    "P = plt.ylabel('Percentage')"
   ]
  },
  {
   "cell_type": "code",
   "execution_count": 56,
   "metadata": {
    "scrolled": true
   },
   "outputs": [
    {
     "data": {
      "image/png": "[encoded data removed]",
      "text/plain": [
       "<Figure size 432x288 with 1 Axes>"
      ]
     },
     "metadata": {
      "needs_background": "light"
     },
     "output_type": "display_data"
    }
   ],
   "source": [
    "bins=[0,500, 2000,3500,5000,10000] \n",
    "group=['Low','Average','Good','High', 'Very high'] \n",
    "\n",
    "train1['num_own_bin']=pd.cut(train1['number_of_owner-occupied_units'],bins,labels=group)\n",
    "\n",
    "Income_bin=pd.crosstab(train1['num_own_bin'],train1['accepted'])\n",
    "\n",
    "Income_bin.div(Income_bin.sum(1).astype(float), axis=0).plot(kind=\"bar\", stacked=True)\n",
    "\n",
    "plt.xlabel('number_of_owner-occupied_units') \n",
    "P = plt.ylabel('Percentage')"
   ]
  },
  {
   "cell_type": "markdown",
   "metadata": {},
   "source": [
    "It can be inferred that Applicant income does not affect the chances of loan approval which contradicts our hypothesis in which we assumed that if the applicant income is high the chances of loan approval will also be high."
   ]
  },
  {
   "cell_type": "markdown",
   "metadata": {},
   "source": [
    "### Dummy Variables Creation"
   ]
  },
  {
   "cell_type": "code",
   "execution_count": 57,
   "metadata": {},
   "outputs": [],
   "source": [
    "X = pd.get_dummies(X) \n",
    "train = pd.get_dummies(train) "
   ]
  },
  {
   "cell_type": "code",
   "execution_count": 58,
   "metadata": {},
   "outputs": [],
   "source": [
    "numfeat = [\"loan_amount\", \"applicant_income\", \n",
    "           \"ffiecmedian_family_income\",'population',\n",
    "          'minority_population_pct','ffiecmedian_family_income','tract_to_msa_md_income_pct',\n",
    "        'number_of_owner-occupied_units','number_of_1_to_4_family_units']"
   ]
  },
  {
   "cell_type": "code",
   "execution_count": 59,
   "metadata": {},
   "outputs": [],
   "source": [
    "from sklearn.preprocessing import StandardScaler\n",
    "sc = StandardScaler()  \n",
    "X[numfeat] = sc.fit_transform(X[numfeat])  "
   ]
  },
  {
   "cell_type": "code",
   "execution_count": 60,
   "metadata": {},
   "outputs": [],
   "source": [
    "catfeatures_index = np.where(X.dtypes != float)[0]"
   ]
  },
  {
   "cell_type": "markdown",
   "metadata": {},
   "source": [
    "### MODELLING "
   ]
  },
  {
   "cell_type": "code",
   "execution_count": 61,
   "metadata": {},
   "outputs": [],
   "source": [
    "X_train, X_cv, y_train, y_cv = train_test_split(X, y,test_size=0.3)"
   ]
  },
  {
   "cell_type": "code",
   "execution_count": 62,
   "metadata": {},
   "outputs": [],
   "source": [
    "catboost = CatBoostClassifier(iterations=100, depth=8, \n",
    "                              learning_rate=0.05,                           \n",
    "                           eval_metric='Accuracy',use_best_model=True, random_seed=44624)"
   ]
  },
  {
   "cell_type": "code",
   "execution_count": 63,
   "metadata": {
    "scrolled": false
   },
   "outputs": [
    {
     "name": "stdout",
     "output_type": "stream",
     "text": [
      "0:\tlearn: 0.6949943\ttest: 0.6928133\tbest: 0.6928133 (0)\ttotal: 240ms\tremaining: 23.8s\n",
      "1:\tlearn: 0.7001829\ttest: 0.6992800\tbest: 0.6992800 (1)\ttotal: 392ms\tremaining: 19.2s\n",
      "2:\tlearn: 0.7005857\ttest: 0.6986133\tbest: 0.6992800 (1)\ttotal: 548ms\tremaining: 17.7s\n",
      "3:\tlearn: 0.7000086\ttest: 0.6990333\tbest: 0.6992800 (1)\ttotal: 704ms\tremaining: 16.9s\n",
      "4:\tlearn: 0.7000971\ttest: 0.6989067\tbest: 0.6992800 (1)\ttotal: 850ms\tremaining: 16.1s\n",
      "5:\tlearn: 0.7019086\ttest: 0.7006600\tbest: 0.7006600 (5)\ttotal: 999ms\tremaining: 15.6s\n",
      "6:\tlearn: 0.7017400\ttest: 0.7000467\tbest: 0.7006600 (5)\ttotal: 1.15s\tremaining: 15.2s\n",
      "7:\tlearn: 0.7017714\ttest: 0.7005733\tbest: 0.7006600 (5)\ttotal: 1.29s\tremaining: 14.8s\n",
      "8:\tlearn: 0.7039629\ttest: 0.7025467\tbest: 0.7025467 (8)\ttotal: 1.44s\tremaining: 14.5s\n",
      "9:\tlearn: 0.7032600\ttest: 0.7022600\tbest: 0.7025467 (8)\ttotal: 1.6s\tremaining: 14.4s\n",
      "10:\tlearn: 0.7032657\ttest: 0.7021067\tbest: 0.7025467 (8)\ttotal: 1.76s\tremaining: 14.2s\n",
      "11:\tlearn: 0.7044857\ttest: 0.7035067\tbest: 0.7035067 (11)\ttotal: 1.9s\tremaining: 13.9s\n",
      "12:\tlearn: 0.7048486\ttest: 0.7033933\tbest: 0.7035067 (11)\ttotal: 2.05s\tremaining: 13.7s\n",
      "13:\tlearn: 0.7048371\ttest: 0.7035533\tbest: 0.7035533 (13)\ttotal: 2.21s\tremaining: 13.6s\n",
      "14:\tlearn: 0.7047571\ttest: 0.7035200\tbest: 0.7035533 (13)\ttotal: 2.35s\tremaining: 13.3s\n",
      "15:\tlearn: 0.7058057\ttest: 0.7045933\tbest: 0.7045933 (15)\ttotal: 2.5s\tremaining: 13.1s\n",
      "16:\tlearn: 0.7067257\ttest: 0.7054200\tbest: 0.7054200 (16)\ttotal: 2.65s\tremaining: 13s\n",
      "17:\tlearn: 0.7069314\ttest: 0.7053600\tbest: 0.7054200 (16)\ttotal: 2.8s\tremaining: 12.8s\n",
      "18:\tlearn: 0.7074257\ttest: 0.7057600\tbest: 0.7057600 (18)\ttotal: 2.96s\tremaining: 12.6s\n",
      "19:\tlearn: 0.7071371\ttest: 0.7061133\tbest: 0.7061133 (19)\ttotal: 3.1s\tremaining: 12.4s\n",
      "20:\tlearn: 0.7072457\ttest: 0.7061067\tbest: 0.7061133 (19)\ttotal: 3.25s\tremaining: 12.2s\n",
      "21:\tlearn: 0.7077971\ttest: 0.7062400\tbest: 0.7062400 (21)\ttotal: 3.41s\tremaining: 12.1s\n",
      "22:\tlearn: 0.7081543\ttest: 0.7071133\tbest: 0.7071133 (22)\ttotal: 3.58s\tremaining: 12s\n",
      "23:\tlearn: 0.7081457\ttest: 0.7070400\tbest: 0.7071133 (22)\ttotal: 3.71s\tremaining: 11.8s\n",
      "24:\tlearn: 0.7090600\ttest: 0.7076600\tbest: 0.7076600 (24)\ttotal: 3.86s\tremaining: 11.6s\n",
      "25:\tlearn: 0.7094657\ttest: 0.7080533\tbest: 0.7080533 (25)\ttotal: 4.04s\tremaining: 11.5s\n",
      "26:\tlearn: 0.7099914\ttest: 0.7089067\tbest: 0.7089067 (26)\ttotal: 4.19s\tremaining: 11.3s\n",
      "27:\tlearn: 0.7105343\ttest: 0.7092067\tbest: 0.7092067 (27)\ttotal: 4.34s\tremaining: 11.2s\n",
      "28:\tlearn: 0.7106029\ttest: 0.7092467\tbest: 0.7092467 (28)\ttotal: 4.5s\tremaining: 11s\n",
      "29:\tlearn: 0.7106943\ttest: 0.7092133\tbest: 0.7092467 (28)\ttotal: 4.65s\tremaining: 10.8s\n",
      "30:\tlearn: 0.7110800\ttest: 0.7095200\tbest: 0.7095200 (30)\ttotal: 4.8s\tremaining: 10.7s\n",
      "31:\tlearn: 0.7115143\ttest: 0.7101400\tbest: 0.7101400 (31)\ttotal: 4.94s\tremaining: 10.5s\n",
      "32:\tlearn: 0.7115429\ttest: 0.7102667\tbest: 0.7102667 (32)\ttotal: 5.09s\tremaining: 10.3s\n",
      "33:\tlearn: 0.7120314\ttest: 0.7107200\tbest: 0.7107200 (33)\ttotal: 5.25s\tremaining: 10.2s\n",
      "34:\tlearn: 0.7120229\ttest: 0.7106400\tbest: 0.7107200 (33)\ttotal: 5.41s\tremaining: 10.1s\n",
      "35:\tlearn: 0.7125457\ttest: 0.7111133\tbest: 0.7111133 (35)\ttotal: 5.56s\tremaining: 9.89s\n",
      "36:\tlearn: 0.7127829\ttest: 0.7111800\tbest: 0.7111800 (36)\ttotal: 5.72s\tremaining: 9.74s\n",
      "37:\tlearn: 0.7132286\ttest: 0.7113867\tbest: 0.7113867 (37)\ttotal: 5.88s\tremaining: 9.59s\n",
      "38:\tlearn: 0.7133257\ttest: 0.7115467\tbest: 0.7115467 (38)\ttotal: 6.04s\tremaining: 9.46s\n",
      "39:\tlearn: 0.7134543\ttest: 0.7119200\tbest: 0.7119200 (39)\ttotal: 6.2s\tremaining: 9.3s\n",
      "40:\tlearn: 0.7137629\ttest: 0.7121333\tbest: 0.7121333 (40)\ttotal: 6.37s\tremaining: 9.17s\n",
      "41:\tlearn: 0.7137171\ttest: 0.7120600\tbest: 0.7121333 (40)\ttotal: 6.53s\tremaining: 9.01s\n",
      "42:\tlearn: 0.7140000\ttest: 0.7121667\tbest: 0.7121667 (42)\ttotal: 6.67s\tremaining: 8.85s\n",
      "43:\tlearn: 0.7141829\ttest: 0.7122467\tbest: 0.7122467 (43)\ttotal: 6.81s\tremaining: 8.67s\n",
      "44:\tlearn: 0.7142771\ttest: 0.7125867\tbest: 0.7125867 (44)\ttotal: 6.96s\tremaining: 8.5s\n",
      "45:\tlearn: 0.7146771\ttest: 0.7128000\tbest: 0.7128000 (45)\ttotal: 7.1s\tremaining: 8.33s\n",
      "46:\tlearn: 0.7148000\ttest: 0.7132000\tbest: 0.7132000 (46)\ttotal: 7.25s\tremaining: 8.18s\n",
      "47:\tlearn: 0.7149543\ttest: 0.7132000\tbest: 0.7132000 (46)\ttotal: 7.4s\tremaining: 8.02s\n",
      "48:\tlearn: 0.7149029\ttest: 0.7134667\tbest: 0.7134667 (48)\ttotal: 7.55s\tremaining: 7.86s\n",
      "49:\tlearn: 0.7148857\ttest: 0.7133200\tbest: 0.7134667 (48)\ttotal: 7.74s\tremaining: 7.74s\n",
      "50:\tlearn: 0.7151457\ttest: 0.7138733\tbest: 0.7138733 (50)\ttotal: 7.91s\tremaining: 7.6s\n",
      "51:\tlearn: 0.7152257\ttest: 0.7139400\tbest: 0.7139400 (51)\ttotal: 8.05s\tremaining: 7.43s\n",
      "52:\tlearn: 0.7152857\ttest: 0.7141933\tbest: 0.7141933 (52)\ttotal: 8.2s\tremaining: 7.27s\n",
      "53:\tlearn: 0.7154943\ttest: 0.7141600\tbest: 0.7141933 (52)\ttotal: 8.35s\tremaining: 7.11s\n",
      "54:\tlearn: 0.7157486\ttest: 0.7147067\tbest: 0.7147067 (54)\ttotal: 8.51s\tremaining: 6.96s\n",
      "55:\tlearn: 0.7159943\ttest: 0.7146800\tbest: 0.7147067 (54)\ttotal: 8.67s\tremaining: 6.81s\n",
      "56:\tlearn: 0.7162057\ttest: 0.7148667\tbest: 0.7148667 (56)\ttotal: 8.83s\tremaining: 6.66s\n",
      "57:\tlearn: 0.7161886\ttest: 0.7148800\tbest: 0.7148800 (57)\ttotal: 8.98s\tremaining: 6.5s\n",
      "58:\tlearn: 0.7164486\ttest: 0.7149800\tbest: 0.7149800 (58)\ttotal: 9.14s\tremaining: 6.35s\n",
      "59:\tlearn: 0.7165314\ttest: 0.7151600\tbest: 0.7151600 (59)\ttotal: 9.3s\tremaining: 6.2s\n",
      "60:\tlearn: 0.7166143\ttest: 0.7152400\tbest: 0.7152400 (60)\ttotal: 9.45s\tremaining: 6.04s\n",
      "61:\tlearn: 0.7166514\ttest: 0.7153067\tbest: 0.7153067 (61)\ttotal: 9.6s\tremaining: 5.88s\n",
      "62:\tlearn: 0.7168314\ttest: 0.7155600\tbest: 0.7155600 (62)\ttotal: 9.77s\tremaining: 5.74s\n",
      "63:\tlearn: 0.7170057\ttest: 0.7156933\tbest: 0.7156933 (63)\ttotal: 9.92s\tremaining: 5.58s\n",
      "64:\tlearn: 0.7172314\ttest: 0.7158000\tbest: 0.7158000 (64)\ttotal: 10.1s\tremaining: 5.43s\n",
      "65:\tlearn: 0.7172000\ttest: 0.7158867\tbest: 0.7158867 (65)\ttotal: 10.2s\tremaining: 5.28s\n",
      "66:\tlearn: 0.7173343\ttest: 0.7160067\tbest: 0.7160067 (66)\ttotal: 10.4s\tremaining: 5.13s\n",
      "67:\tlearn: 0.7174286\ttest: 0.7161400\tbest: 0.7161400 (67)\ttotal: 10.6s\tremaining: 4.99s\n",
      "68:\tlearn: 0.7174914\ttest: 0.7162000\tbest: 0.7162000 (68)\ttotal: 10.8s\tremaining: 4.85s\n",
      "69:\tlearn: 0.7176143\ttest: 0.7160400\tbest: 0.7162000 (68)\ttotal: 11s\tremaining: 4.7s\n",
      "70:\tlearn: 0.7177314\ttest: 0.7162400\tbest: 0.7162400 (70)\ttotal: 11.1s\tremaining: 4.54s\n",
      "71:\tlearn: 0.7177857\ttest: 0.7161000\tbest: 0.7162400 (70)\ttotal: 11.3s\tremaining: 4.39s\n",
      "72:\tlearn: 0.7178400\ttest: 0.7162400\tbest: 0.7162400 (70)\ttotal: 11.4s\tremaining: 4.22s\n",
      "73:\tlearn: 0.7179629\ttest: 0.7163000\tbest: 0.7163000 (73)\ttotal: 11.6s\tremaining: 4.07s\n",
      "74:\tlearn: 0.7180371\ttest: 0.7164467\tbest: 0.7164467 (74)\ttotal: 11.8s\tremaining: 3.93s\n",
      "75:\tlearn: 0.7181371\ttest: 0.7164600\tbest: 0.7164600 (75)\ttotal: 11.9s\tremaining: 3.77s\n",
      "76:\tlearn: 0.7181343\ttest: 0.7165667\tbest: 0.7165667 (76)\ttotal: 12.1s\tremaining: 3.62s\n",
      "77:\tlearn: 0.7181714\ttest: 0.7165133\tbest: 0.7165667 (76)\ttotal: 12.3s\tremaining: 3.48s\n",
      "78:\tlearn: 0.7183600\ttest: 0.7167067\tbest: 0.7167067 (78)\ttotal: 12.5s\tremaining: 3.32s\n",
      "79:\tlearn: 0.7184514\ttest: 0.7168000\tbest: 0.7168000 (79)\ttotal: 12.6s\tremaining: 3.16s\n",
      "80:\tlearn: 0.7185543\ttest: 0.7169133\tbest: 0.7169133 (80)\ttotal: 12.8s\tremaining: 3.01s\n",
      "81:\tlearn: 0.7187314\ttest: 0.7170067\tbest: 0.7170067 (81)\ttotal: 13s\tremaining: 2.85s\n",
      "82:\tlearn: 0.7187886\ttest: 0.7168400\tbest: 0.7170067 (81)\ttotal: 13.1s\tremaining: 2.69s\n",
      "83:\tlearn: 0.7189514\ttest: 0.7169400\tbest: 0.7170067 (81)\ttotal: 13.3s\tremaining: 2.53s\n",
      "84:\tlearn: 0.7190229\ttest: 0.7171733\tbest: 0.7171733 (84)\ttotal: 13.4s\tremaining: 2.37s\n",
      "85:\tlearn: 0.7190486\ttest: 0.7170600\tbest: 0.7171733 (84)\ttotal: 13.6s\tremaining: 2.21s\n",
      "86:\tlearn: 0.7191800\ttest: 0.7172933\tbest: 0.7172933 (86)\ttotal: 13.7s\tremaining: 2.05s\n",
      "87:\tlearn: 0.7192686\ttest: 0.7172000\tbest: 0.7172933 (86)\ttotal: 13.9s\tremaining: 1.89s\n",
      "88:\tlearn: 0.7194371\ttest: 0.7173400\tbest: 0.7173400 (88)\ttotal: 14s\tremaining: 1.74s\n",
      "89:\tlearn: 0.7195314\ttest: 0.7175067\tbest: 0.7175067 (89)\ttotal: 14.2s\tremaining: 1.57s\n",
      "90:\tlearn: 0.7195114\ttest: 0.7176133\tbest: 0.7176133 (90)\ttotal: 14.4s\tremaining: 1.42s\n",
      "91:\tlearn: 0.7197257\ttest: 0.7176200\tbest: 0.7176200 (91)\ttotal: 14.5s\tremaining: 1.26s\n",
      "92:\tlearn: 0.7197086\ttest: 0.7176733\tbest: 0.7176733 (92)\ttotal: 14.7s\tremaining: 1.1s\n",
      "93:\tlearn: 0.7197571\ttest: 0.7176733\tbest: 0.7176733 (92)\ttotal: 14.8s\tremaining: 947ms\n",
      "94:\tlearn: 0.7199343\ttest: 0.7178267\tbest: 0.7178267 (94)\ttotal: 15s\tremaining: 788ms\n"
     ]
    },
    {
     "name": "stdout",
     "output_type": "stream",
     "text": [
      "95:\tlearn: 0.7199743\ttest: 0.7178800\tbest: 0.7178800 (95)\ttotal: 15.1s\tremaining: 631ms\n",
      "96:\tlearn: 0.7200600\ttest: 0.7179467\tbest: 0.7179467 (96)\ttotal: 15.3s\tremaining: 472ms\n",
      "97:\tlearn: 0.7201686\ttest: 0.7178400\tbest: 0.7179467 (96)\ttotal: 15.4s\tremaining: 315ms\n",
      "98:\tlearn: 0.7201629\ttest: 0.7179133\tbest: 0.7179467 (96)\ttotal: 15.6s\tremaining: 157ms\n",
      "99:\tlearn: 0.7201914\ttest: 0.7178933\tbest: 0.7179467 (96)\ttotal: 15.7s\tremaining: 0us\n",
      "\n",
      "bestTest = 0.7179466667\n",
      "bestIteration = 96\n",
      "\n",
      "Shrink model to first 97 iterations.\n"
     ]
    },
    {
     "data": {
      "text/plain": [
       "<catboost.core.CatBoostClassifier at 0x7f817a40a390>"
      ]
     },
     "execution_count": 63,
     "metadata": {},
     "output_type": "execute_result"
    }
   ],
   "source": [
    "catboost.fit(X_train, y_train, cat_features = catfeatures_index, eval_set = (X_cv, y_cv)) #Model training\n"
   ]
  },
  {
   "cell_type": "code",
   "execution_count": 64,
   "metadata": {},
   "outputs": [],
   "source": [
    "catboostpred = catboost.predict(X_cv)\n",
    "catboostpredprobs = catboost.predict_proba(X_cv) # predicting probabilities"
   ]
  },
  {
   "cell_type": "code",
   "execution_count": 65,
   "metadata": {},
   "outputs": [],
   "source": [
    "from sklearn.metrics import recall_score,confusion_matrix,precision_score, f1_score,roc_auc_score, roc_curve"
   ]
  },
  {
   "cell_type": "code",
   "execution_count": 66,
   "metadata": {},
   "outputs": [
    {
     "name": "stdout",
     "output_type": "stream",
     "text": [
      "the test accuracy is :0.71795\n"
     ]
    }
   ],
   "source": [
    "print('The test accuracy is :{:.5f}'.format(accuracy_score(y_cv, catboostpred)))"
   ]
  },
  {
   "cell_type": "markdown",
   "metadata": {},
   "source": [
    "### Submission"
   ]
  },
  {
   "cell_type": "markdown",
   "metadata": {},
   "source": [
    "catboost_submission=pd.read_csv(\"submission_format.csv\")\n",
    "\n",
    "catboost_submission['accepted'] = catboostpredprobs\n",
    "\n",
    "catboost_submission.to_csv('mondcatboost_submission.csv', index = False)"
   ]
  },
  {
   "cell_type": "markdown",
   "metadata": {},
   "source": [
    "### Performance Checking"
   ]
  },
  {
   "cell_type": "code",
   "execution_count": 72,
   "metadata": {},
   "outputs": [
    {
     "name": "stdout",
     "output_type": "stream",
     "text": [
      "Accuracy: 72.19533333333334\n",
      "\n",
      "Precision: 77.91859549887272\n",
      "\n",
      "Recall: 69.89660371939398\n",
      "\n",
      "f1 score 73.68992120917733\n",
      "\n",
      "confusion matrix [[49886 16552]\n",
      " [25155 58407]]\n"
     ]
    }
   ],
   "source": [
    "print(\"Accuracy:\",accuracy_score(catboostpred, y_cv)*100)\n",
    "print()\n",
    "print(\"Precision:\",precision_score(catboostpred, y_cv)*100)\n",
    "print()\n",
    "#Model Recall: what percentage of positive tuples are labelled as such?\n",
    "print(\"Recall:\",recall_score(catboostpred, y_cv)*100)\n",
    "print()\n",
    "print(\"f1 score\",f1_score(catboostpred, y_cv)*100)\n",
    "print()\n",
    "print(\"confusion matrix\",confusion_matrix(catboostpred, y_cv))"
   ]
  },
  {
   "cell_type": "markdown",
   "metadata": {},
   "source": [
    "### ROC"
   ]
  },
  {
   "cell_type": "code",
   "execution_count": 73,
   "metadata": {},
   "outputs": [
    {
     "name": "stdout",
     "output_type": "stream",
     "text": [
      "AUC: 0.797\n"
     ]
    },
    {
     "data": {
      "image/png": "[encoded data removed]",
      "text/plain": [
       "<Figure size 432x288 with 1 Axes>"
      ]
     },
     "metadata": {
      "needs_background": "light"
     },
     "output_type": "display_data"
    }
   ],
   "source": [
    "# keep probabilities for the positive outcome only\n",
    "probs = catboostpredprobs[:, 1]\n",
    "# calculate AUC\n",
    "auc = roc_auc_score(y_cv, probs)\n",
    "print('AUC: %.3f' % auc)\n",
    "# calculate roc curve\n",
    "fpr, tpr, thresholds = roc_curve(y_cv, probs)\n",
    "# plot no skill\n",
    "plt.plot([0, 1], [0, 1], linestyle='--')\n",
    "# plot the roc curve for the model\n",
    "plt.plot(fpr, tpr, marker='.')\n",
    "# show the plot\n",
    "plt.show()"
   ]
  },
  {
   "cell_type": "code",
   "execution_count": null,
   "metadata": {},
   "outputs": [],
   "source": []
  }
 ],
 "metadata": {
  "kernelspec": {
   "display_name": "Python 3",
   "language": "python",
   "name": "python3"
  },
  "language_info": {
   "codemirror_mode": {
    "name": "ipython",
    "version": 3
   },
   "file_extension": ".py",
   "mimetype": "text/x-python",
   "name": "python",
   "nbconvert_exporter": "python",
   "pygments_lexer": "ipython3",
   "version": "3.7.9"
  },
  "toc": {
   "base_numbering": 1,
   "nav_menu": {},
   "number_sections": false,
   "sideBar": false,
   "skip_h1_title": false,
   "title_cell": "Table of Contents",
   "title_sidebar": "Contents",
   "toc_cell": false,
   "toc_position": {},
   "toc_section_display": false,
   "toc_window_display": false
  }
 },
 "nbformat": 4,
 "nbformat_minor": 2
}
